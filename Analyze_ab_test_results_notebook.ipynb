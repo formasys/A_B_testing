{
  "nbformat": 4,
  "nbformat_minor": 0,
  "metadata": {
    "colab": {
      "name": "Analyze_ab_test_results_notebook.ipynb",
      "provenance": [],
      "collapsed_sections": []
    },
    "kernelspec": {
      "display_name": "Python 3",
      "language": "python",
      "name": "python3"
    },
    "language_info": {
      "codemirror_mode": {
        "name": "ipython",
        "version": 3
      },
      "file_extension": ".py",
      "mimetype": "text/x-python",
      "name": "python",
      "nbconvert_exporter": "python",
      "pygments_lexer": "ipython3",
      "version": "3.6.1"
    }
  },
  "cells": [
    {
      "cell_type": "markdown",
      "metadata": {
        "id": "z9RtCM06gx9l"
      },
      "source": [
        "## Analyze A/B Test Results\n",
        "\n",
        "This project will assure you have mastered the subjects covered in the statistics lessons.  The hope is to have this project be as comprehensive of these topics as possible.  Good luck!\n",
        "\n",
        "## Table of Contents\n",
        "- [Introduction](#intro)\n",
        "- [Part I - Probability](#probability)\n",
        "- [Part II - A/B Test](#ab_test)\n",
        "- [Part III - Regression](#regression)\n",
        "\n",
        "\n",
        "<a id='intro'></a>\n",
        "### Introduction\n",
        "\n",
        "A/B tests are very commonly performed by data analysts and data scientists.  It is important that you get some practice working with the difficulties of these \n",
        "\n",
        "For this project, you will be working to understand the results of an A/B test run by an e-commerce website.  Your goal is to work through this notebook to help the company understand if they should implement the new page, keep the old page, or perhaps run the experiment longer to make their decision.\n",
        "\n",
        "**As you work through this notebook, follow along in the classroom and answer the corresponding quiz questions associated with each question.** The labels for each classroom concept are provided for each question.  This will assure you are on the right track as you work through the project, and you can feel more confident in your final submission meeting the criteria.  As a final check, assure you meet all the criteria on the [RUBRIC](https://review.udacity.com/#!/projects/37e27304-ad47-4eb0-a1ab-8c12f60e43d0/rubric).\n",
        "\n",
        "<a id='probability'></a>\n",
        "#### Part I - Probability\n",
        "\n",
        "To get started, let's import our libraries."
      ]
    },
    {
      "cell_type": "code",
      "metadata": {
        "collapsed": true,
        "id": "AzO0DZcOgx9o"
      },
      "source": [
        "import pandas as pd\n",
        "import numpy as np\n",
        "import random\n",
        "import matplotlib.pyplot as plt\n",
        "%matplotlib inline\n",
        "#We are setting the seed to assure you get the same answers on quizzes as we set up\n",
        "random.seed(42)"
      ],
      "execution_count": 1,
      "outputs": []
    },
    {
      "cell_type": "markdown",
      "metadata": {
        "id": "hXbkwxYBgx9p"
      },
      "source": [
        "`1.` Now, read in the `ab_data.csv` data. Store it in `df`.  **Use your dataframe to answer the questions in Quiz 1 of the classroom.**\n",
        "\n",
        "a. Read in the dataset and take a look at the top few rows here:"
      ]
    },
    {
      "cell_type": "code",
      "metadata": {
        "colab": {
          "base_uri": "https://localhost:8080/",
          "height": 208
        },
        "collapsed": true,
        "id": "DmmhvtZdgx9p",
        "outputId": "0ea04222-7e6c-43f2-c085-6ff0d4515691"
      },
      "source": [
        "df=pd.read_csv('/content/ab_data.csv')\n",
        "df.head()"
      ],
      "execution_count": 2,
      "outputs": [
        {
          "output_type": "execute_result",
          "data": {
            "text/html": [
              "<div>\n",
              "<style scoped>\n",
              "    .dataframe tbody tr th:only-of-type {\n",
              "        vertical-align: middle;\n",
              "    }\n",
              "\n",
              "    .dataframe tbody tr th {\n",
              "        vertical-align: top;\n",
              "    }\n",
              "\n",
              "    .dataframe thead th {\n",
              "        text-align: right;\n",
              "    }\n",
              "</style>\n",
              "<table border=\"1\" class=\"dataframe\">\n",
              "  <thead>\n",
              "    <tr style=\"text-align: right;\">\n",
              "      <th></th>\n",
              "      <th>user_id</th>\n",
              "      <th>timestamp</th>\n",
              "      <th>group</th>\n",
              "      <th>landing_page</th>\n",
              "      <th>converted</th>\n",
              "    </tr>\n",
              "  </thead>\n",
              "  <tbody>\n",
              "    <tr>\n",
              "      <th>0</th>\n",
              "      <td>851104</td>\n",
              "      <td>2017-01-21 22:11:48.556739</td>\n",
              "      <td>control</td>\n",
              "      <td>old_page</td>\n",
              "      <td>0</td>\n",
              "    </tr>\n",
              "    <tr>\n",
              "      <th>1</th>\n",
              "      <td>804228</td>\n",
              "      <td>2017-01-12 08:01:45.159739</td>\n",
              "      <td>control</td>\n",
              "      <td>old_page</td>\n",
              "      <td>0</td>\n",
              "    </tr>\n",
              "    <tr>\n",
              "      <th>2</th>\n",
              "      <td>661590</td>\n",
              "      <td>2017-01-11 16:55:06.154213</td>\n",
              "      <td>treatment</td>\n",
              "      <td>new_page</td>\n",
              "      <td>0</td>\n",
              "    </tr>\n",
              "    <tr>\n",
              "      <th>3</th>\n",
              "      <td>853541</td>\n",
              "      <td>2017-01-08 18:28:03.143765</td>\n",
              "      <td>treatment</td>\n",
              "      <td>new_page</td>\n",
              "      <td>0</td>\n",
              "    </tr>\n",
              "    <tr>\n",
              "      <th>4</th>\n",
              "      <td>864975</td>\n",
              "      <td>2017-01-21 01:52:26.210827</td>\n",
              "      <td>control</td>\n",
              "      <td>old_page</td>\n",
              "      <td>1</td>\n",
              "    </tr>\n",
              "  </tbody>\n",
              "</table>\n",
              "</div>"
            ],
            "text/plain": [
              "   user_id                   timestamp      group landing_page  converted\n",
              "0   851104  2017-01-21 22:11:48.556739    control     old_page          0\n",
              "1   804228  2017-01-12 08:01:45.159739    control     old_page          0\n",
              "2   661590  2017-01-11 16:55:06.154213  treatment     new_page          0\n",
              "3   853541  2017-01-08 18:28:03.143765  treatment     new_page          0\n",
              "4   864975  2017-01-21 01:52:26.210827    control     old_page          1"
            ]
          },
          "metadata": {
            "tags": []
          },
          "execution_count": 2
        }
      ]
    },
    {
      "cell_type": "markdown",
      "metadata": {
        "id": "ooxK1Vpogx9q"
      },
      "source": [
        "b. Use the below cell to find the number of rows in the dataset."
      ]
    },
    {
      "cell_type": "code",
      "metadata": {
        "colab": {
          "base_uri": "https://localhost:8080/"
        },
        "collapsed": true,
        "id": "zwWXZurKgx9q",
        "outputId": "a3a9ca0f-9b68-4bdb-f880-b1971c287898"
      },
      "source": [
        "df.shape"
      ],
      "execution_count": 3,
      "outputs": [
        {
          "output_type": "execute_result",
          "data": {
            "text/plain": [
              "(294478, 5)"
            ]
          },
          "metadata": {
            "tags": []
          },
          "execution_count": 3
        }
      ]
    },
    {
      "cell_type": "markdown",
      "metadata": {
        "id": "NscHqxLQgx9q"
      },
      "source": [
        "c. The number of unique users in the dataset."
      ]
    },
    {
      "cell_type": "code",
      "metadata": {
        "colab": {
          "base_uri": "https://localhost:8080/"
        },
        "collapsed": true,
        "id": "YmeV4maKgx9r",
        "outputId": "79c43d95-3e2b-4bb4-a117-88c5211e2767"
      },
      "source": [
        "df.user_id.nunique()"
      ],
      "execution_count": 4,
      "outputs": [
        {
          "output_type": "execute_result",
          "data": {
            "text/plain": [
              "290584"
            ]
          },
          "metadata": {
            "tags": []
          },
          "execution_count": 4
        }
      ]
    },
    {
      "cell_type": "markdown",
      "metadata": {
        "collapsed": true,
        "id": "gCVOr3Qmgx9r"
      },
      "source": [
        "d. The proportion of users converted."
      ]
    },
    {
      "cell_type": "code",
      "metadata": {
        "colab": {
          "base_uri": "https://localhost:8080/"
        },
        "collapsed": true,
        "id": "vfPTniexgx9s",
        "outputId": "52e47eb3-e174-407f-a017-a155f6d12296"
      },
      "source": [
        "df[df['converted']==1].shape[0]/df.user_id.nunique()"
      ],
      "execution_count": 5,
      "outputs": [
        {
          "output_type": "execute_result",
          "data": {
            "text/plain": [
              "0.12126269856564711"
            ]
          },
          "metadata": {
            "tags": []
          },
          "execution_count": 5
        }
      ]
    },
    {
      "cell_type": "markdown",
      "metadata": {
        "collapsed": true,
        "id": "YxRSEuvPgx9s"
      },
      "source": [
        "e. The number of times the `new_page` and `treatment` don't line up."
      ]
    },
    {
      "cell_type": "code",
      "metadata": {
        "colab": {
          "base_uri": "https://localhost:8080/"
        },
        "collapsed": true,
        "id": "uUrhr0i1gx9t",
        "outputId": "844fcfc8-1d08-4e5a-9a3f-906e5c6414b9"
      },
      "source": [
        "tot_dontlineup=df[(df['landing_page']=='old_page') & (df['group']=='treatment')].shape[0]+df[(df['landing_page']=='new_page') & (df['group']=='control')].shape[0]\n",
        "print(tot_dontlineup)"
      ],
      "execution_count": 6,
      "outputs": [
        {
          "output_type": "stream",
          "text": [
            "3893\n"
          ],
          "name": "stdout"
        }
      ]
    },
    {
      "cell_type": "markdown",
      "metadata": {
        "id": "GHEKyQ_ngx9u"
      },
      "source": [
        "f. Do any of the rows have missing values?"
      ]
    },
    {
      "cell_type": "code",
      "metadata": {
        "colab": {
          "base_uri": "https://localhost:8080/"
        },
        "collapsed": true,
        "id": "wkrx-DHigx9u",
        "outputId": "2f02d899-8bfd-45d5-cf44-b0e7c44c7c4a"
      },
      "source": [
        "df.isnull().sum()"
      ],
      "execution_count": 7,
      "outputs": [
        {
          "output_type": "execute_result",
          "data": {
            "text/plain": [
              "user_id         0\n",
              "timestamp       0\n",
              "group           0\n",
              "landing_page    0\n",
              "converted       0\n",
              "dtype: int64"
            ]
          },
          "metadata": {
            "tags": []
          },
          "execution_count": 7
        }
      ]
    },
    {
      "cell_type": "markdown",
      "metadata": {
        "id": "hsoNvWQ0gx9u"
      },
      "source": [
        "`2.` For the rows where **treatment** is not aligned with **new_page** or **control** is not aligned with **old_page**, we cannot be sure if this row truly received the new or old page.  Use **Quiz 2** in the classroom to provide how we should handle these rows.  \n",
        "\n",
        "a. Now use the answer to the quiz to create a new dataset that meets the specifications from the quiz.  Store your new dataframe in **df2**."
      ]
    },
    {
      "cell_type": "code",
      "metadata": {
        "colab": {
          "base_uri": "https://localhost:8080/",
          "height": 428
        },
        "id": "g2xcVvBWotKH",
        "outputId": "5fe33efc-e216-40b6-95ff-30ae0ed235eb"
      },
      "source": [
        "df"
      ],
      "execution_count": 8,
      "outputs": [
        {
          "output_type": "execute_result",
          "data": {
            "text/html": [
              "<div>\n",
              "<style scoped>\n",
              "    .dataframe tbody tr th:only-of-type {\n",
              "        vertical-align: middle;\n",
              "    }\n",
              "\n",
              "    .dataframe tbody tr th {\n",
              "        vertical-align: top;\n",
              "    }\n",
              "\n",
              "    .dataframe thead th {\n",
              "        text-align: right;\n",
              "    }\n",
              "</style>\n",
              "<table border=\"1\" class=\"dataframe\">\n",
              "  <thead>\n",
              "    <tr style=\"text-align: right;\">\n",
              "      <th></th>\n",
              "      <th>user_id</th>\n",
              "      <th>timestamp</th>\n",
              "      <th>group</th>\n",
              "      <th>landing_page</th>\n",
              "      <th>converted</th>\n",
              "    </tr>\n",
              "  </thead>\n",
              "  <tbody>\n",
              "    <tr>\n",
              "      <th>0</th>\n",
              "      <td>851104</td>\n",
              "      <td>2017-01-21 22:11:48.556739</td>\n",
              "      <td>control</td>\n",
              "      <td>old_page</td>\n",
              "      <td>0</td>\n",
              "    </tr>\n",
              "    <tr>\n",
              "      <th>1</th>\n",
              "      <td>804228</td>\n",
              "      <td>2017-01-12 08:01:45.159739</td>\n",
              "      <td>control</td>\n",
              "      <td>old_page</td>\n",
              "      <td>0</td>\n",
              "    </tr>\n",
              "    <tr>\n",
              "      <th>2</th>\n",
              "      <td>661590</td>\n",
              "      <td>2017-01-11 16:55:06.154213</td>\n",
              "      <td>treatment</td>\n",
              "      <td>new_page</td>\n",
              "      <td>0</td>\n",
              "    </tr>\n",
              "    <tr>\n",
              "      <th>3</th>\n",
              "      <td>853541</td>\n",
              "      <td>2017-01-08 18:28:03.143765</td>\n",
              "      <td>treatment</td>\n",
              "      <td>new_page</td>\n",
              "      <td>0</td>\n",
              "    </tr>\n",
              "    <tr>\n",
              "      <th>4</th>\n",
              "      <td>864975</td>\n",
              "      <td>2017-01-21 01:52:26.210827</td>\n",
              "      <td>control</td>\n",
              "      <td>old_page</td>\n",
              "      <td>1</td>\n",
              "    </tr>\n",
              "    <tr>\n",
              "      <th>...</th>\n",
              "      <td>...</td>\n",
              "      <td>...</td>\n",
              "      <td>...</td>\n",
              "      <td>...</td>\n",
              "      <td>...</td>\n",
              "    </tr>\n",
              "    <tr>\n",
              "      <th>294473</th>\n",
              "      <td>751197</td>\n",
              "      <td>2017-01-03 22:28:38.630509</td>\n",
              "      <td>control</td>\n",
              "      <td>old_page</td>\n",
              "      <td>0</td>\n",
              "    </tr>\n",
              "    <tr>\n",
              "      <th>294474</th>\n",
              "      <td>945152</td>\n",
              "      <td>2017-01-12 00:51:57.078372</td>\n",
              "      <td>control</td>\n",
              "      <td>old_page</td>\n",
              "      <td>0</td>\n",
              "    </tr>\n",
              "    <tr>\n",
              "      <th>294475</th>\n",
              "      <td>734608</td>\n",
              "      <td>2017-01-22 11:45:03.439544</td>\n",
              "      <td>control</td>\n",
              "      <td>old_page</td>\n",
              "      <td>0</td>\n",
              "    </tr>\n",
              "    <tr>\n",
              "      <th>294476</th>\n",
              "      <td>697314</td>\n",
              "      <td>2017-01-15 01:20:28.957438</td>\n",
              "      <td>control</td>\n",
              "      <td>old_page</td>\n",
              "      <td>0</td>\n",
              "    </tr>\n",
              "    <tr>\n",
              "      <th>294477</th>\n",
              "      <td>715931</td>\n",
              "      <td>2017-01-16 12:40:24.467417</td>\n",
              "      <td>treatment</td>\n",
              "      <td>new_page</td>\n",
              "      <td>0</td>\n",
              "    </tr>\n",
              "  </tbody>\n",
              "</table>\n",
              "<p>294478 rows × 5 columns</p>\n",
              "</div>"
            ],
            "text/plain": [
              "        user_id                   timestamp      group landing_page  converted\n",
              "0        851104  2017-01-21 22:11:48.556739    control     old_page          0\n",
              "1        804228  2017-01-12 08:01:45.159739    control     old_page          0\n",
              "2        661590  2017-01-11 16:55:06.154213  treatment     new_page          0\n",
              "3        853541  2017-01-08 18:28:03.143765  treatment     new_page          0\n",
              "4        864975  2017-01-21 01:52:26.210827    control     old_page          1\n",
              "...         ...                         ...        ...          ...        ...\n",
              "294473   751197  2017-01-03 22:28:38.630509    control     old_page          0\n",
              "294474   945152  2017-01-12 00:51:57.078372    control     old_page          0\n",
              "294475   734608  2017-01-22 11:45:03.439544    control     old_page          0\n",
              "294476   697314  2017-01-15 01:20:28.957438    control     old_page          0\n",
              "294477   715931  2017-01-16 12:40:24.467417  treatment     new_page          0\n",
              "\n",
              "[294478 rows x 5 columns]"
            ]
          },
          "metadata": {
            "tags": []
          },
          "execution_count": 8
        }
      ]
    },
    {
      "cell_type": "code",
      "metadata": {
        "colab": {
          "base_uri": "https://localhost:8080/",
          "height": 428
        },
        "id": "xSQXea-RplQF",
        "outputId": "fef5d6b8-4c7c-4b31-e485-427a1208f272"
      },
      "source": [
        "df"
      ],
      "execution_count": 9,
      "outputs": [
        {
          "output_type": "execute_result",
          "data": {
            "text/html": [
              "<div>\n",
              "<style scoped>\n",
              "    .dataframe tbody tr th:only-of-type {\n",
              "        vertical-align: middle;\n",
              "    }\n",
              "\n",
              "    .dataframe tbody tr th {\n",
              "        vertical-align: top;\n",
              "    }\n",
              "\n",
              "    .dataframe thead th {\n",
              "        text-align: right;\n",
              "    }\n",
              "</style>\n",
              "<table border=\"1\" class=\"dataframe\">\n",
              "  <thead>\n",
              "    <tr style=\"text-align: right;\">\n",
              "      <th></th>\n",
              "      <th>user_id</th>\n",
              "      <th>timestamp</th>\n",
              "      <th>group</th>\n",
              "      <th>landing_page</th>\n",
              "      <th>converted</th>\n",
              "    </tr>\n",
              "  </thead>\n",
              "  <tbody>\n",
              "    <tr>\n",
              "      <th>0</th>\n",
              "      <td>851104</td>\n",
              "      <td>2017-01-21 22:11:48.556739</td>\n",
              "      <td>control</td>\n",
              "      <td>old_page</td>\n",
              "      <td>0</td>\n",
              "    </tr>\n",
              "    <tr>\n",
              "      <th>1</th>\n",
              "      <td>804228</td>\n",
              "      <td>2017-01-12 08:01:45.159739</td>\n",
              "      <td>control</td>\n",
              "      <td>old_page</td>\n",
              "      <td>0</td>\n",
              "    </tr>\n",
              "    <tr>\n",
              "      <th>2</th>\n",
              "      <td>661590</td>\n",
              "      <td>2017-01-11 16:55:06.154213</td>\n",
              "      <td>treatment</td>\n",
              "      <td>new_page</td>\n",
              "      <td>0</td>\n",
              "    </tr>\n",
              "    <tr>\n",
              "      <th>3</th>\n",
              "      <td>853541</td>\n",
              "      <td>2017-01-08 18:28:03.143765</td>\n",
              "      <td>treatment</td>\n",
              "      <td>new_page</td>\n",
              "      <td>0</td>\n",
              "    </tr>\n",
              "    <tr>\n",
              "      <th>4</th>\n",
              "      <td>864975</td>\n",
              "      <td>2017-01-21 01:52:26.210827</td>\n",
              "      <td>control</td>\n",
              "      <td>old_page</td>\n",
              "      <td>1</td>\n",
              "    </tr>\n",
              "    <tr>\n",
              "      <th>...</th>\n",
              "      <td>...</td>\n",
              "      <td>...</td>\n",
              "      <td>...</td>\n",
              "      <td>...</td>\n",
              "      <td>...</td>\n",
              "    </tr>\n",
              "    <tr>\n",
              "      <th>294473</th>\n",
              "      <td>751197</td>\n",
              "      <td>2017-01-03 22:28:38.630509</td>\n",
              "      <td>control</td>\n",
              "      <td>old_page</td>\n",
              "      <td>0</td>\n",
              "    </tr>\n",
              "    <tr>\n",
              "      <th>294474</th>\n",
              "      <td>945152</td>\n",
              "      <td>2017-01-12 00:51:57.078372</td>\n",
              "      <td>control</td>\n",
              "      <td>old_page</td>\n",
              "      <td>0</td>\n",
              "    </tr>\n",
              "    <tr>\n",
              "      <th>294475</th>\n",
              "      <td>734608</td>\n",
              "      <td>2017-01-22 11:45:03.439544</td>\n",
              "      <td>control</td>\n",
              "      <td>old_page</td>\n",
              "      <td>0</td>\n",
              "    </tr>\n",
              "    <tr>\n",
              "      <th>294476</th>\n",
              "      <td>697314</td>\n",
              "      <td>2017-01-15 01:20:28.957438</td>\n",
              "      <td>control</td>\n",
              "      <td>old_page</td>\n",
              "      <td>0</td>\n",
              "    </tr>\n",
              "    <tr>\n",
              "      <th>294477</th>\n",
              "      <td>715931</td>\n",
              "      <td>2017-01-16 12:40:24.467417</td>\n",
              "      <td>treatment</td>\n",
              "      <td>new_page</td>\n",
              "      <td>0</td>\n",
              "    </tr>\n",
              "  </tbody>\n",
              "</table>\n",
              "<p>294478 rows × 5 columns</p>\n",
              "</div>"
            ],
            "text/plain": [
              "        user_id                   timestamp      group landing_page  converted\n",
              "0        851104  2017-01-21 22:11:48.556739    control     old_page          0\n",
              "1        804228  2017-01-12 08:01:45.159739    control     old_page          0\n",
              "2        661590  2017-01-11 16:55:06.154213  treatment     new_page          0\n",
              "3        853541  2017-01-08 18:28:03.143765  treatment     new_page          0\n",
              "4        864975  2017-01-21 01:52:26.210827    control     old_page          1\n",
              "...         ...                         ...        ...          ...        ...\n",
              "294473   751197  2017-01-03 22:28:38.630509    control     old_page          0\n",
              "294474   945152  2017-01-12 00:51:57.078372    control     old_page          0\n",
              "294475   734608  2017-01-22 11:45:03.439544    control     old_page          0\n",
              "294476   697314  2017-01-15 01:20:28.957438    control     old_page          0\n",
              "294477   715931  2017-01-16 12:40:24.467417  treatment     new_page          0\n",
              "\n",
              "[294478 rows x 5 columns]"
            ]
          },
          "metadata": {
            "tags": []
          },
          "execution_count": 9
        }
      ]
    },
    {
      "cell_type": "code",
      "metadata": {
        "collapsed": true,
        "id": "ac8z79bUgx9v"
      },
      "source": [
        "df2_1=df[(df['landing_page']=='new_page') & (df['group']=='treatment')]\n",
        "df2_2=df[(df['landing_page']=='old_page') & (df['group']=='control')]"
      ],
      "execution_count": 10,
      "outputs": []
    },
    {
      "cell_type": "code",
      "metadata": {
        "id": "4HOuNjA_p-J3"
      },
      "source": [
        "df2 = pd.concat([df2_1, df2_2], ignore_index=True)"
      ],
      "execution_count": 11,
      "outputs": []
    },
    {
      "cell_type": "code",
      "metadata": {
        "colab": {
          "base_uri": "https://localhost:8080/",
          "height": 428
        },
        "id": "0J1NVZ80qbp7",
        "outputId": "b20ec490-5ef3-4a4f-a2a7-8be1d2541a72"
      },
      "source": [
        "df2"
      ],
      "execution_count": 12,
      "outputs": [
        {
          "output_type": "execute_result",
          "data": {
            "text/html": [
              "<div>\n",
              "<style scoped>\n",
              "    .dataframe tbody tr th:only-of-type {\n",
              "        vertical-align: middle;\n",
              "    }\n",
              "\n",
              "    .dataframe tbody tr th {\n",
              "        vertical-align: top;\n",
              "    }\n",
              "\n",
              "    .dataframe thead th {\n",
              "        text-align: right;\n",
              "    }\n",
              "</style>\n",
              "<table border=\"1\" class=\"dataframe\">\n",
              "  <thead>\n",
              "    <tr style=\"text-align: right;\">\n",
              "      <th></th>\n",
              "      <th>user_id</th>\n",
              "      <th>timestamp</th>\n",
              "      <th>group</th>\n",
              "      <th>landing_page</th>\n",
              "      <th>converted</th>\n",
              "    </tr>\n",
              "  </thead>\n",
              "  <tbody>\n",
              "    <tr>\n",
              "      <th>0</th>\n",
              "      <td>661590</td>\n",
              "      <td>2017-01-11 16:55:06.154213</td>\n",
              "      <td>treatment</td>\n",
              "      <td>new_page</td>\n",
              "      <td>0</td>\n",
              "    </tr>\n",
              "    <tr>\n",
              "      <th>1</th>\n",
              "      <td>853541</td>\n",
              "      <td>2017-01-08 18:28:03.143765</td>\n",
              "      <td>treatment</td>\n",
              "      <td>new_page</td>\n",
              "      <td>0</td>\n",
              "    </tr>\n",
              "    <tr>\n",
              "      <th>2</th>\n",
              "      <td>679687</td>\n",
              "      <td>2017-01-19 03:26:46.940749</td>\n",
              "      <td>treatment</td>\n",
              "      <td>new_page</td>\n",
              "      <td>1</td>\n",
              "    </tr>\n",
              "    <tr>\n",
              "      <th>3</th>\n",
              "      <td>817355</td>\n",
              "      <td>2017-01-04 17:58:08.979471</td>\n",
              "      <td>treatment</td>\n",
              "      <td>new_page</td>\n",
              "      <td>1</td>\n",
              "    </tr>\n",
              "    <tr>\n",
              "      <th>4</th>\n",
              "      <td>839785</td>\n",
              "      <td>2017-01-15 18:11:06.610965</td>\n",
              "      <td>treatment</td>\n",
              "      <td>new_page</td>\n",
              "      <td>1</td>\n",
              "    </tr>\n",
              "    <tr>\n",
              "      <th>...</th>\n",
              "      <td>...</td>\n",
              "      <td>...</td>\n",
              "      <td>...</td>\n",
              "      <td>...</td>\n",
              "      <td>...</td>\n",
              "    </tr>\n",
              "    <tr>\n",
              "      <th>290580</th>\n",
              "      <td>718310</td>\n",
              "      <td>2017-01-21 22:44:20.378320</td>\n",
              "      <td>control</td>\n",
              "      <td>old_page</td>\n",
              "      <td>0</td>\n",
              "    </tr>\n",
              "    <tr>\n",
              "      <th>290581</th>\n",
              "      <td>751197</td>\n",
              "      <td>2017-01-03 22:28:38.630509</td>\n",
              "      <td>control</td>\n",
              "      <td>old_page</td>\n",
              "      <td>0</td>\n",
              "    </tr>\n",
              "    <tr>\n",
              "      <th>290582</th>\n",
              "      <td>945152</td>\n",
              "      <td>2017-01-12 00:51:57.078372</td>\n",
              "      <td>control</td>\n",
              "      <td>old_page</td>\n",
              "      <td>0</td>\n",
              "    </tr>\n",
              "    <tr>\n",
              "      <th>290583</th>\n",
              "      <td>734608</td>\n",
              "      <td>2017-01-22 11:45:03.439544</td>\n",
              "      <td>control</td>\n",
              "      <td>old_page</td>\n",
              "      <td>0</td>\n",
              "    </tr>\n",
              "    <tr>\n",
              "      <th>290584</th>\n",
              "      <td>697314</td>\n",
              "      <td>2017-01-15 01:20:28.957438</td>\n",
              "      <td>control</td>\n",
              "      <td>old_page</td>\n",
              "      <td>0</td>\n",
              "    </tr>\n",
              "  </tbody>\n",
              "</table>\n",
              "<p>290585 rows × 5 columns</p>\n",
              "</div>"
            ],
            "text/plain": [
              "        user_id                   timestamp      group landing_page  converted\n",
              "0        661590  2017-01-11 16:55:06.154213  treatment     new_page          0\n",
              "1        853541  2017-01-08 18:28:03.143765  treatment     new_page          0\n",
              "2        679687  2017-01-19 03:26:46.940749  treatment     new_page          1\n",
              "3        817355  2017-01-04 17:58:08.979471  treatment     new_page          1\n",
              "4        839785  2017-01-15 18:11:06.610965  treatment     new_page          1\n",
              "...         ...                         ...        ...          ...        ...\n",
              "290580   718310  2017-01-21 22:44:20.378320    control     old_page          0\n",
              "290581   751197  2017-01-03 22:28:38.630509    control     old_page          0\n",
              "290582   945152  2017-01-12 00:51:57.078372    control     old_page          0\n",
              "290583   734608  2017-01-22 11:45:03.439544    control     old_page          0\n",
              "290584   697314  2017-01-15 01:20:28.957438    control     old_page          0\n",
              "\n",
              "[290585 rows x 5 columns]"
            ]
          },
          "metadata": {
            "tags": []
          },
          "execution_count": 12
        }
      ]
    },
    {
      "cell_type": "code",
      "metadata": {
        "colab": {
          "base_uri": "https://localhost:8080/"
        },
        "collapsed": true,
        "id": "_3cfk0uGgx9v",
        "outputId": "6b9203c9-e82c-486f-8cf3-ab9752980bb4"
      },
      "source": [
        "# Double Check all of the correct rows were removed - this should be 0\n",
        "df2[((df2['group'] == 'treatment') == (df2['landing_page'] == 'new_page')) == False].shape[0]"
      ],
      "execution_count": 13,
      "outputs": [
        {
          "output_type": "execute_result",
          "data": {
            "text/plain": [
              "0"
            ]
          },
          "metadata": {
            "tags": []
          },
          "execution_count": 13
        }
      ]
    },
    {
      "cell_type": "markdown",
      "metadata": {
        "id": "dpV-CF5hgx9w"
      },
      "source": [
        "`3.` Use **df2** and the cells below to answer questions for **Quiz3** in the classroom."
      ]
    },
    {
      "cell_type": "markdown",
      "metadata": {
        "id": "3_WkMwyBgx9w"
      },
      "source": [
        "a. How many unique **user_id**s are in **df2**?"
      ]
    },
    {
      "cell_type": "code",
      "metadata": {
        "colab": {
          "base_uri": "https://localhost:8080/"
        },
        "collapsed": true,
        "id": "0W87eQNigx9w",
        "outputId": "e87868cb-0ded-451a-8093-631757b05b92"
      },
      "source": [
        "df2.user_id.nunique()"
      ],
      "execution_count": 14,
      "outputs": [
        {
          "output_type": "execute_result",
          "data": {
            "text/plain": [
              "290584"
            ]
          },
          "metadata": {
            "tags": []
          },
          "execution_count": 14
        }
      ]
    },
    {
      "cell_type": "markdown",
      "metadata": {
        "collapsed": true,
        "id": "lFM2xmwdgx9x"
      },
      "source": [
        "b. There is one **user_id** repeated in **df2**.  What is it?"
      ]
    },
    {
      "cell_type": "code",
      "metadata": {
        "colab": {
          "base_uri": "https://localhost:8080/"
        },
        "collapsed": true,
        "id": "Y4ZiA238gx9x",
        "outputId": "01802037-90cc-4545-8877-78dc57928062"
      },
      "source": [
        "df2[df2.user_id.duplicated()].shape[0]"
      ],
      "execution_count": 15,
      "outputs": [
        {
          "output_type": "execute_result",
          "data": {
            "text/plain": [
              "1"
            ]
          },
          "metadata": {
            "tags": []
          },
          "execution_count": 15
        }
      ]
    },
    {
      "cell_type": "markdown",
      "metadata": {
        "id": "peKtOFb5gx9x"
      },
      "source": [
        "c. What is the row information for the repeat **user_id**? "
      ]
    },
    {
      "cell_type": "code",
      "metadata": {
        "colab": {
          "base_uri": "https://localhost:8080/",
          "height": 81
        },
        "collapsed": true,
        "id": "0tvSHW3Zgx9y",
        "outputId": "48160c18-ece8-483b-d30c-03c27c9fed4a"
      },
      "source": [
        "df2[df2.user_id.duplicated()]"
      ],
      "execution_count": 16,
      "outputs": [
        {
          "output_type": "execute_result",
          "data": {
            "text/html": [
              "<div>\n",
              "<style scoped>\n",
              "    .dataframe tbody tr th:only-of-type {\n",
              "        vertical-align: middle;\n",
              "    }\n",
              "\n",
              "    .dataframe tbody tr th {\n",
              "        vertical-align: top;\n",
              "    }\n",
              "\n",
              "    .dataframe thead th {\n",
              "        text-align: right;\n",
              "    }\n",
              "</style>\n",
              "<table border=\"1\" class=\"dataframe\">\n",
              "  <thead>\n",
              "    <tr style=\"text-align: right;\">\n",
              "      <th></th>\n",
              "      <th>user_id</th>\n",
              "      <th>timestamp</th>\n",
              "      <th>group</th>\n",
              "      <th>landing_page</th>\n",
              "      <th>converted</th>\n",
              "    </tr>\n",
              "  </thead>\n",
              "  <tbody>\n",
              "    <tr>\n",
              "      <th>1404</th>\n",
              "      <td>773192</td>\n",
              "      <td>2017-01-14 02:55:59.590927</td>\n",
              "      <td>treatment</td>\n",
              "      <td>new_page</td>\n",
              "      <td>0</td>\n",
              "    </tr>\n",
              "  </tbody>\n",
              "</table>\n",
              "</div>"
            ],
            "text/plain": [
              "      user_id                   timestamp      group landing_page  converted\n",
              "1404   773192  2017-01-14 02:55:59.590927  treatment     new_page          0"
            ]
          },
          "metadata": {
            "tags": []
          },
          "execution_count": 16
        }
      ]
    },
    {
      "cell_type": "markdown",
      "metadata": {
        "id": "gZmJpAPwgx9y"
      },
      "source": [
        "d. Remove **one** of the rows with a duplicate **user_id**, but keep your dataframe as **df2**."
      ]
    },
    {
      "cell_type": "code",
      "metadata": {
        "collapsed": true,
        "id": "Tr_syxnDgx9y"
      },
      "source": [
        "df2.drop_duplicates(subset='user_id',inplace=True)"
      ],
      "execution_count": 17,
      "outputs": []
    },
    {
      "cell_type": "code",
      "metadata": {
        "colab": {
          "base_uri": "https://localhost:8080/"
        },
        "id": "xqsfX3isuvHE",
        "outputId": "22d23a7e-6757-42ff-ca7a-e05feac9751b"
      },
      "source": [
        "df2[df2.user_id.duplicated()].shape[0]"
      ],
      "execution_count": 18,
      "outputs": [
        {
          "output_type": "execute_result",
          "data": {
            "text/plain": [
              "0"
            ]
          },
          "metadata": {
            "tags": []
          },
          "execution_count": 18
        }
      ]
    },
    {
      "cell_type": "markdown",
      "metadata": {
        "id": "JxMTIZd8gx9z"
      },
      "source": [
        "`4.` Use **df2** in the below cells to answer the quiz questions related to **Quiz 4** in the classroom.\n",
        "\n",
        "a. What is the probability of an individual converting regardless of the page they receive?"
      ]
    },
    {
      "cell_type": "code",
      "metadata": {
        "colab": {
          "base_uri": "https://localhost:8080/"
        },
        "collapsed": true,
        "id": "5z6QZOjcgx9z",
        "outputId": "c0d71a26-db44-485e-da3d-b10c1812c70c"
      },
      "source": [
        "df2.converted.sum()/df2.user_id.nunique()"
      ],
      "execution_count": 19,
      "outputs": [
        {
          "output_type": "execute_result",
          "data": {
            "text/plain": [
              "0.11959708724499628"
            ]
          },
          "metadata": {
            "tags": []
          },
          "execution_count": 19
        }
      ]
    },
    {
      "cell_type": "markdown",
      "metadata": {
        "id": "W5lnEiIbgx9z"
      },
      "source": [
        "b. Given that an individual was in the `control` group, what is the probability they converted?"
      ]
    },
    {
      "cell_type": "code",
      "metadata": {
        "colab": {
          "base_uri": "https://localhost:8080/"
        },
        "collapsed": true,
        "id": "561Mo_Vngx90",
        "outputId": "e2e76cd3-f65d-443c-b916-415892bce64d"
      },
      "source": [
        "df2[df2['group']=='control'].converted.sum()/df2[df2['group']=='control'].user_id.nunique()"
      ],
      "execution_count": 20,
      "outputs": [
        {
          "output_type": "execute_result",
          "data": {
            "text/plain": [
              "0.1203863045004612"
            ]
          },
          "metadata": {
            "tags": []
          },
          "execution_count": 20
        }
      ]
    },
    {
      "cell_type": "markdown",
      "metadata": {
        "id": "Ke_LdyO2gx90"
      },
      "source": [
        "c. Given that an individual was in the `treatment` group, what is the probability they converted?"
      ]
    },
    {
      "cell_type": "code",
      "metadata": {
        "colab": {
          "base_uri": "https://localhost:8080/"
        },
        "collapsed": true,
        "id": "_-_9mi5Wgx91",
        "outputId": "71999eac-60e7-4a0a-ee65-9937d22f93d7"
      },
      "source": [
        "df2[df2['group']=='treatment'].converted.sum()/df2[df2['group']=='treatment'].user_id.nunique()"
      ],
      "execution_count": 21,
      "outputs": [
        {
          "output_type": "execute_result",
          "data": {
            "text/plain": [
              "0.11880806551510564"
            ]
          },
          "metadata": {
            "tags": []
          },
          "execution_count": 21
        }
      ]
    },
    {
      "cell_type": "markdown",
      "metadata": {
        "id": "0tRej_u_gx93"
      },
      "source": [
        "d. What is the probability that an individual received the new page?"
      ]
    },
    {
      "cell_type": "code",
      "metadata": {
        "colab": {
          "base_uri": "https://localhost:8080/"
        },
        "collapsed": true,
        "id": "af9DMpaegx93",
        "outputId": "cdba6b36-e85a-44e6-f46d-9079488e9547"
      },
      "source": [
        "df2[df2['landing_page']=='new_page'].shape[0]/df2.user_id.nunique()"
      ],
      "execution_count": 22,
      "outputs": [
        {
          "output_type": "execute_result",
          "data": {
            "text/plain": [
              "0.5000619442226688"
            ]
          },
          "metadata": {
            "tags": []
          },
          "execution_count": 22
        }
      ]
    },
    {
      "cell_type": "markdown",
      "metadata": {
        "id": "SsIfaRySgx93"
      },
      "source": [
        "e. Consider your results from a. through d. above, and explain below whether you think there is sufficient evidence to say that the new treatment page leads to more conversions."
      ]
    },
    {
      "cell_type": "markdown",
      "metadata": {
        "id": "UDGCunF7gx94"
      },
      "source": [
        "**Based on previous results, we can't say that new treatement page leads to more conversions.**"
      ]
    },
    {
      "cell_type": "markdown",
      "metadata": {
        "id": "ccP_aciCgx94"
      },
      "source": [
        "<a id='ab_test'></a>\n",
        "### Part II - A/B Test\n",
        "\n",
        "Notice that because of the time stamp associated with each event, you could technically run a hypothesis test continuously as each observation was observed.  \n",
        "\n",
        "However, then the hard question is do you stop as soon as one page is considered significantly better than another or does it need to happen consistently for a certain amount of time?  How long do you run to render a decision that neither page is better than another?  \n",
        "\n",
        "These questions are the difficult parts associated with A/B tests in general.  \n",
        "\n",
        "\n",
        "`1.` For now, consider you need to make the decision just based on all the data provided.  If you want to assume that the old page is better unless the new page proves to be definitely better at a Type I error rate of 5%, what should your null and alternative hypotheses be?  You can state your hypothesis in terms of words or in terms of **$p_{old}$** and **$p_{new}$**, which are the converted rates for the old and new pages."
      ]
    },
    {
      "cell_type": "markdown",
      "metadata": {
        "id": "DUHvp822gx94"
      },
      "source": [
        "**H0: pnew-pold=<0**\n",
        "\n",
        "**H1: pnew-pold>0**"
      ]
    },
    {
      "cell_type": "markdown",
      "metadata": {
        "id": "Je6_jG-zgx95"
      },
      "source": [
        "`2.` Assume under the null hypothesis, $p_{new}$ and $p_{old}$ both have \"true\" success rates equal to the **converted** success rate regardless of page - that is $p_{new}$ and $p_{old}$ are equal. Furthermore, assume they are equal to the **converted** rate in **ab_data.csv** regardless of the page. <br><br>\n",
        "\n",
        "Use a sample size for each page equal to the ones in **ab_data.csv**.  <br><br>\n",
        "\n",
        "Perform the sampling distribution for the difference in **converted** between the two pages over 10,000 iterations of calculating an estimate from the null.  <br><br>\n",
        "\n",
        "Use the cells below to provide the necessary parts of this simulation.  If this doesn't make complete sense right now, don't worry - you are going to work through the problems below to complete this problem.  You can use **Quiz 5** in the classroom to make sure you are on the right track.<br><br>"
      ]
    },
    {
      "cell_type": "markdown",
      "metadata": {
        "id": "XEoWBtXggx95"
      },
      "source": [
        "a. What is the **convert rate** for $p_{new}$ under the null? "
      ]
    },
    {
      "cell_type": "code",
      "metadata": {
        "colab": {
          "base_uri": "https://localhost:8080/"
        },
        "collapsed": true,
        "id": "FwT8aJIKgx95",
        "outputId": "e27be799-e09b-4c97-e306-1854bf74370d"
      },
      "source": [
        "pnew=df2[df2['converted']==1].shape[0]/df2.shape[0]\n",
        "print(pnew)"
      ],
      "execution_count": 23,
      "outputs": [
        {
          "output_type": "stream",
          "text": [
            "0.11959708724499628\n"
          ],
          "name": "stdout"
        }
      ]
    },
    {
      "cell_type": "markdown",
      "metadata": {
        "id": "YjGjSClGgx96"
      },
      "source": [
        "b. What is the **convert rate** for $p_{old}$ under the null? <br><br>"
      ]
    },
    {
      "cell_type": "code",
      "metadata": {
        "colab": {
          "base_uri": "https://localhost:8080/"
        },
        "collapsed": true,
        "id": "1DIWuqMkgx96",
        "outputId": "c2e8806c-6d00-4e18-8089-343b27faf9e8"
      },
      "source": [
        "pold=df2[df2['converted']==1].shape[0]/df2.shape[0]\n",
        "print(pold)"
      ],
      "execution_count": 24,
      "outputs": [
        {
          "output_type": "stream",
          "text": [
            "0.11959708724499628\n"
          ],
          "name": "stdout"
        }
      ]
    },
    {
      "cell_type": "markdown",
      "metadata": {
        "id": "3Xv4vkbZgx96"
      },
      "source": [
        "c. What is $n_{new}$?"
      ]
    },
    {
      "cell_type": "code",
      "metadata": {
        "colab": {
          "base_uri": "https://localhost:8080/"
        },
        "collapsed": true,
        "id": "FbrOGmXmgx97",
        "outputId": "ed9afaa9-ecf0-4c2e-862f-92a062264179"
      },
      "source": [
        "df2[df2['landing_page']=='new_page'].shape[0]"
      ],
      "execution_count": 25,
      "outputs": [
        {
          "output_type": "execute_result",
          "data": {
            "text/plain": [
              "145310"
            ]
          },
          "metadata": {
            "tags": []
          },
          "execution_count": 25
        }
      ]
    },
    {
      "cell_type": "markdown",
      "metadata": {
        "id": "MCXX2RwJgx97"
      },
      "source": [
        "d. What is $n_{old}$?"
      ]
    },
    {
      "cell_type": "code",
      "metadata": {
        "colab": {
          "base_uri": "https://localhost:8080/"
        },
        "collapsed": true,
        "id": "SDijJFQXgx97",
        "outputId": "44a6d6b8-ffb7-4015-8f59-c094fe072b40"
      },
      "source": [
        "df2[df2['landing_page']=='old_page'].shape[0]"
      ],
      "execution_count": 26,
      "outputs": [
        {
          "output_type": "execute_result",
          "data": {
            "text/plain": [
              "145274"
            ]
          },
          "metadata": {
            "tags": []
          },
          "execution_count": 26
        }
      ]
    },
    {
      "cell_type": "markdown",
      "metadata": {
        "id": "-mFwJprLgx98"
      },
      "source": [
        "e. Simulate $n_{new}$ transactions with a convert rate of $p_{new}$ under the null.  Store these $n_{new}$ 1's and 0's in **new_page_converted**."
      ]
    },
    {
      "cell_type": "code",
      "metadata": {
        "collapsed": true,
        "id": "N7pcoRvdgx98"
      },
      "source": [
        "new_page_converted=df2[df2['landing_page']=='new_page']"
      ],
      "execution_count": 27,
      "outputs": []
    },
    {
      "cell_type": "markdown",
      "metadata": {
        "id": "faAWBEoPgx98"
      },
      "source": [
        "f. Simulate $n_{old}$ transactions with a convert rate of $p_{old}$ under the null.  Store these $n_{old}$ 1's and 0's in **old_page_converted**."
      ]
    },
    {
      "cell_type": "code",
      "metadata": {
        "collapsed": true,
        "id": "3i_kjW6Ugx99"
      },
      "source": [
        "old_page_converted=df2[df2['landing_page']=='old_page']"
      ],
      "execution_count": 28,
      "outputs": []
    },
    {
      "cell_type": "markdown",
      "metadata": {
        "id": "o5LWHqgwgx9-"
      },
      "source": [
        "g. Find $p_{new}$ - $p_{old}$ for your simulated values from part (e) and (f)."
      ]
    },
    {
      "cell_type": "code",
      "metadata": {
        "colab": {
          "base_uri": "https://localhost:8080/"
        },
        "id": "UysenYBfgx9-",
        "outputId": "6007fcdb-e8b6-48ba-a6d8-ccc1c97cbb8a"
      },
      "source": [
        "pnew-pold"
      ],
      "execution_count": 29,
      "outputs": [
        {
          "output_type": "execute_result",
          "data": {
            "text/plain": [
              "0.0"
            ]
          },
          "metadata": {
            "tags": []
          },
          "execution_count": 29
        }
      ]
    },
    {
      "cell_type": "markdown",
      "metadata": {
        "id": "aY41yMxngx9-"
      },
      "source": [
        "h. Simulate 10,000 $p_{new}$ - $p_{old}$ values using this same process similarly to the one you calculated in parts **a. through g.** above.  Store all 10,000 values in a numpy array called **p_diffs**."
      ]
    },
    {
      "cell_type": "code",
      "metadata": {
        "colab": {
          "base_uri": "https://localhost:8080/"
        },
        "id": "44mkbKI8gx9_",
        "outputId": "e2c7d7f7-2f23-4ddd-abfd-2dad49568cc0"
      },
      "source": [
        "p_diffs = []\n",
        "\n",
        "for i in range(10000):\n",
        "    new_page = df2.sample(new_page_converted.shape[0], replace=True)\n",
        "    conv_new = new_page.query('converted == 1')\n",
        "    pnew = conv_new.shape[0]/new_page.shape[0]\n",
        "    old_page = df2.sample(old_page_converted.shape[0], replace=True)\n",
        "    conv_old = old_page.query('converted == 1')\n",
        "    pold = conv_old.shape[0]/old_page.shape[0]\n",
        "    p_diffs.append(pnew - pold)\n",
        "p_diffs"
      ],
      "execution_count": 30,
      "outputs": [
        {
          "output_type": "execute_result",
          "data": {
            "text/plain": [
              "[0.0002937797752664145,\n",
              " -0.00032545611092911486,\n",
              " 0.0006862765190032566,\n",
              " 1.8458471759755235e-05,\n",
              " -0.0008279139085477644,\n",
              " 0.0016635863118237004,\n",
              " 0.002812959129046555,\n",
              " 0.001099362501949308,\n",
              " -0.0002704286862608707,\n",
              " 0.0024481415187184025,\n",
              " -0.0011031857562692482,\n",
              " -0.00013299825971439805,\n",
              " 0.0010923186527912188,\n",
              " 0.00131919422500211,\n",
              " 0.0014226452111313764,\n",
              " 0.00101657749676487,\n",
              " 0.0013401688782613136,\n",
              " 0.001216232680608914,\n",
              " -0.00017407441581866745,\n",
              " 0.0028681127512355936,\n",
              " 0.0020488106865675093,\n",
              " 0.00018402166064100667,\n",
              " 0.0002868928203233756,\n",
              " 0.00042468478571321133,\n",
              " 0.00012846727605485275,\n",
              " -9.164384376134094e-06,\n",
              " -2.9862767387117684e-05,\n",
              " -0.0020875035854378415,\n",
              " -2.971781077538982e-05,\n",
              " 0.002922916772184578,\n",
              " 0.0009819994708098467,\n",
              " 0.0007826410216768553,\n",
              " 5.9706870426196046e-05,\n",
              " 0.00021827396056263437,\n",
              " -0.0006492947713514358,\n",
              " -0.0011170057111967169,\n",
              " 0.0010507121260252134,\n",
              " -0.0012135219919696544,\n",
              " 0.00034207543383474315,\n",
              " -0.0016400067029832127,\n",
              " -0.0011718199643771104,\n",
              " -0.002225309193802885,\n",
              " -0.0002564040867051032,\n",
              " 0.0033155107221198715,\n",
              " 0.003335999344386817,\n",
              " -0.0005043412861422403,\n",
              " 0.0008445434636848298,\n",
              " -0.00040812685619605327,\n",
              " -0.0024316705631682867,\n",
              " 0.0003216260351215361,\n",
              " 0.0003761947147479655,\n",
              " 0.0015947662181784589,\n",
              " -0.0014270534080139397,\n",
              " 0.0002799700525703691,\n",
              " -0.001447265760032665,\n",
              " 0.0009752540617347233,\n",
              " -2.9671765734026745e-05,\n",
              " -0.001619644278237048,\n",
              " 0.0005347294028182625,\n",
              " 0.0010233689508813565,\n",
              " 0.0005348726540580773,\n",
              " -0.0009380250351570252,\n",
              " 0.0020490204473115198,\n",
              " -0.0005113817245565311,\n",
              " -0.0010346351113846158,\n",
              " -0.00019461760998652766,\n",
              " -0.003470945896757102,\n",
              " 0.00028721513561295875,\n",
              " 0.0010645320809526682,\n",
              " -0.001413233453086471,\n",
              " -0.00022202900000647952,\n",
              " 0.00035583399537371385,\n",
              " 0.0008030153840263426,\n",
              " 0.004402752577499794,\n",
              " -0.0010344031808058596,\n",
              " -7.100372762369744e-05,\n",
              " -0.00045630825484690996,\n",
              " -0.0011720331358649333,\n",
              " -0.0009515073264477619,\n",
              " 0.0019937951995025877,\n",
              " -0.00014667837414583662,\n",
              " 0.00025244440263293144,\n",
              " -0.0003049743101497526,\n",
              " 0.0015120084989444643,\n",
              " 0.0014086291384351052,\n",
              " -0.0012272976072276454,\n",
              " 0.0016841022200411032,\n",
              " 0.0009614665088734098,\n",
              " 5.302114936765745e-05,\n",
              " 0.0009475374101441808,\n",
              " 0.00033507251360231916,\n",
              " -0.0014336760303120671,\n",
              " -0.0011169869521057696,\n",
              " -0.0017639787134455936,\n",
              " -0.0010343844217149262,\n",
              " -0.0021495458679418183,\n",
              " -0.001591900340696062,\n",
              " 0.0010994256007096914,\n",
              " 0.002372408889551564,\n",
              " 0.001408934400005682,\n",
              " 7.342961915521307e-05,\n",
              " 0.0012021705628712659,\n",
              " 0.0017873826689801114,\n",
              " -0.0016058806005823795,\n",
              " -0.0009999001912145422,\n",
              " -0.0008349662845653638,\n",
              " -0.0012343039382038679,\n",
              " -0.0008623589154943961,\n",
              " -0.0012824631670199926,\n",
              " -0.0016954962834370702,\n",
              " 0.003232775172720609,\n",
              " -0.0007177925497070942,\n",
              " -0.001440701120379223,\n",
              " 0.00015646872475312545,\n",
              " 0.0012917504329160029,\n",
              " 0.00032131906817907396,\n",
              " -0.0004082308838821158,\n",
              " -0.0001742159616865968,\n",
              " -0.0009519404909110324,\n",
              " -0.0014682881637051587,\n",
              " -0.0014408136749247957,\n",
              " 0.0010579827896463473,\n",
              " -0.0004288934540831457,\n",
              " -0.0010207094233991992,\n",
              " 0.00019737263829522345,\n",
              " -0.0005252698943600809,\n",
              " -0.0006080634264040291,\n",
              " -0.0018464993859851064,\n",
              " -0.0006766737593052602,\n",
              " 0.0005278629123380424,\n",
              " 0.00019065622054245668,\n",
              " 5.310130184708883e-05,\n",
              " -7.077520778873969e-05,\n",
              " -0.0011586190594503054,\n",
              " 0.0012505139718528707,\n",
              " -0.0011442056351007451,\n",
              " 0.0007824670737427847,\n",
              " -0.0006492555477976836,\n",
              " -0.0009588444995731055,\n",
              " -0.0005184852617311914,\n",
              " 0.0006863055103255994,\n",
              " 0.00012850649960861882,\n",
              " -0.0007035922968453429,\n",
              " -0.0021699867397955014,\n",
              " -0.0009863019346344343,\n",
              " 0.0010438319925697853,\n",
              " 3.922848039064619e-05,\n",
              " -0.0011929890300332174,\n",
              " 0.000521079985081066,\n",
              " 0.0009065294689160064,\n",
              " 0.0002662404823537551,\n",
              " -0.0015643866283619606,\n",
              " 0.001305633486603855,\n",
              " 0.0019457093016782695,\n",
              " -0.0010893794443170152,\n",
              " 0.0012642162561190412,\n",
              " -0.00032573579192113344,\n",
              " -0.0025487846100099715,\n",
              " 0.0005900245708752028,\n",
              " 0.0015328757137738208,\n",
              " -5.718718344005502e-05,\n",
              " -0.0013099700578665108,\n",
              " -2.2941705006024327e-05,\n",
              " 0.0017393325839657608,\n",
              " 0.0007067361499478592,\n",
              " -0.0005114380018293035,\n",
              " -0.0010138327006875697,\n",
              " 0.0017117711212183556,\n",
              " -6.347896358906147e-05,\n",
              " 0.0018079343900074818,\n",
              " -0.00018082323563760327,\n",
              " 0.0004383819538636702,\n",
              " -0.0004219075875697559,\n",
              " 0.0007893779038924686,\n",
              " -0.0028788860592589838,\n",
              " -0.00022903874172650052,\n",
              " 0.0003420737284628439,\n",
              " -0.0016542154827044603,\n",
              " 0.0013813098384978933,\n",
              " -0.0013856617581076702,\n",
              " 0.001050739411975657,\n",
              " -0.0005872217921532169,\n",
              " -9.15912614610076e-05,\n",
              " 0.0006449735484359148,\n",
              " 0.001085655101567412,\n",
              " -0.0017021103788756875,\n",
              " -0.0009381734025125515,\n",
              " 0.0007549158432268166,\n",
              " 0.000837511552130063,\n",
              " 0.0014364071834141318,\n",
              " -0.0007452994405535984,\n",
              " 0.0019318961682384395,\n",
              " -0.00034609821666729823,\n",
              " -0.00014662891836066116,\n",
              " 0.0013333347898472625,\n",
              " 0.0013951775438386244,\n",
              " -4.361109669466512e-05,\n",
              " -0.0013994629539441916,\n",
              " 0.00045915366786647427,\n",
              " 0.0012089654277315648,\n",
              " 0.0012160945454847971,\n",
              " -0.0002291478855282747,\n",
              " 0.0006381599244846825,\n",
              " -0.0008969147716147013,\n",
              " -0.0015365591275977447,\n",
              " -0.00017433533771978038,\n",
              " 0.0011815523323396998,\n",
              " 0.0009543970791367762,\n",
              " -0.0004495236222180343,\n",
              " 0.0016979631038942233,\n",
              " -2.940743308911531e-05,\n",
              " 0.00045218656044400396,\n",
              " -0.0011516007908707604,\n",
              " 0.001009782631904571,\n",
              " -0.00026359630321871885,\n",
              " -0.0015299740234814702,\n",
              " -0.002025625018636512,\n",
              " -0.0006971692030598164,\n",
              " 0.0002938803922086647,\n",
              " 0.0006173882104818923,\n",
              " 0.0007206430788423562,\n",
              " -0.00018802227363882984,\n",
              " 0.0035354891071563005,\n",
              " 0.0007825404047346191,\n",
              " 0.0028198341463862853,\n",
              " 0.0015188749894246706,\n",
              " 0.000844453078973989,\n",
              " -0.001027993729995555,\n",
              " 0.0006931071966734953,\n",
              " 0.0010440877983551866,\n",
              " -0.00022216884050249575,\n",
              " -0.0012890653248553013,\n",
              " 0.0009891729282325151,\n",
              " 0.00206975634850437,\n",
              " -0.0008141672846121301,\n",
              " 0.0004726785934547617,\n",
              " 0.0010645065003741239,\n",
              " -0.0007108987732764444,\n",
              " 0.0003834022796087022,\n",
              " 0.0028885689714363977,\n",
              " 4.604409394232123e-06,\n",
              " 0.0015534154971978548,\n",
              " -0.00025668717844093414,\n",
              " 0.0008582269888600669,\n",
              " -0.00287207584605155,\n",
              " -0.0007177925497070942,\n",
              " -0.00012605673287047203,\n",
              " 0.0008719889611428361,\n",
              " 0.0008373648901464359,\n",
              " 0.0003213531756171145,\n",
              " -0.0006285332895800549,\n",
              " 0.0010920492040305957,\n",
              " 0.00032821796072542153,\n",
              " 8.056044228031689e-05,\n",
              " -0.0008208939345963201,\n",
              " 0.0008718286561839872,\n",
              " 0.00022488123451364084,\n",
              " 0.0008307200980135626,\n",
              " 0.0009203323701244409,\n",
              " -0.0018810603582211094,\n",
              " 0.0007412544878863114,\n",
              " 0.0008927913718398822,\n",
              " -0.000270300783368177,\n",
              " 0.0012918459337425414,\n",
              " -0.0008209297474062738,\n",
              " -0.0017642225816276724,\n",
              " 0.0006101670026459338,\n",
              " -0.0015025234099077522,\n",
              " -9.141049203932605e-05,\n",
              " -9.836736723037309e-05,\n",
              " 0.0003766551651616934,\n",
              " 0.0016911904088686702,\n",
              " -5.7199121043363665e-05,\n",
              " -0.0007110948910452469,\n",
              " -0.0007523671649183328,\n",
              " 0.0010509372351163726,\n",
              " 0.0012365899892393534,\n",
              " -0.0009036789397807443,\n",
              " -0.0007384909327180778,\n",
              " 0.001753024636000508,\n",
              " -0.0009523719500024036,\n",
              " 0.00029373373022503757,\n",
              " 0.0001147257682349162,\n",
              " 0.0006243212104663082,\n",
              " 0.0008857492280536922,\n",
              " -0.0012683669418443178,\n",
              " -0.0006488326155658225,\n",
              " -2.2779694675262308e-05,\n",
              " 0.0010440997359584953,\n",
              " 0.001160968209246202,\n",
              " 0.0015873898214993493,\n",
              " -0.00047701516471741756,\n",
              " 0.002455118858372282,\n",
              " 0.0007617823337070229,\n",
              " -0.0006283644577616959,\n",
              " -0.0001399227328392899,\n",
              " -0.0003877252078961363,\n",
              " 0.00045887569224634106,\n",
              " -0.002135574134915025,\n",
              " 7.342620841140068e-05,\n",
              " 0.00027296201622224736,\n",
              " -0.001557624165567803,\n",
              " 0.000693059446260233,\n",
              " 0.0017598604297864723,\n",
              " -0.0006834004092894502,\n",
              " -0.0005597694732075997,\n",
              " -0.0017504418502539698,\n",
              " 0.001168131434437475,\n",
              " -0.0013924463907365597,\n",
              " -0.000869368657214431,\n",
              " 0.0006998935346742841,\n",
              " -0.0007866399293027931,\n",
              " -0.001447412422016292,\n",
              " 0.0027782020390417494,\n",
              " -6.406220077977143e-05,\n",
              " 0.0005625620196981762,\n",
              " -0.0002843185614363475,\n",
              " 0.0025237939954058097,\n",
              " 0.0005002656367806974,\n",
              " -0.00010551183333072645,\n",
              " 0.0005345179367023389,\n",
              " -0.0008489039101541029,\n",
              " -0.00016040794436246453,\n",
              " -0.0019705481381831064,\n",
              " 0.0003695379850117836,\n",
              " -0.0019152921936799183,\n",
              " 0.00010132704016740934,\n",
              " -0.000993385007346262,\n",
              " 0.0019114297158061982,\n",
              " -0.001041409511782082,\n",
              " 0.0005622721064747205,\n",
              " 1.1730116403652069e-05,\n",
              " 5.97563262113715e-05,\n",
              " -9.151793046920098e-05,\n",
              " 0.00025268315469931246,\n",
              " 0.0015256732650287819,\n",
              " 0.000803225144770367,\n",
              " 0.00018373856890516183,\n",
              " 0.0007409151188776941,\n",
              " -0.0010000877821238346,\n",
              " 0.0007000913578149998,\n",
              " 0.0002662984649984407,\n",
              " 0.00010821399511044827,\n",
              " 0.00015608842681882895,\n",
              " 0.0003487918515875238,\n",
              " -6.393429788706384e-05,\n",
              " 0.0011746602612809631,\n",
              " -0.0020601416512030513,\n",
              " 3.208742503410522e-05,\n",
              " 0.00038344491390628066,\n",
              " -0.001316621671486981,\n",
              " 0.0010165570323020373,\n",
              " 0.0006656923959097449,\n",
              " -0.002032604063662305,\n",
              " -0.0013992855952663225,\n",
              " 0.0009754331257844917,\n",
              " -0.000945133688447411,\n",
              " -0.0018398119595546825,\n",
              " -3.647515745383578e-05,\n",
              " -0.0010206088064569352,\n",
              " 0.00455446170401555,\n",
              " -0.00040823258925401507,\n",
              " 0.0026064084633999757,\n",
              " -0.0013304399210425366,\n",
              " -0.0004014718318317706,\n",
              " -0.0007524115045877966,\n",
              " -0.0015851122973233878,\n",
              " 0.0027303327234490804,\n",
              " -0.0009795224181212425,\n",
              " 0.0006792974739774638,\n",
              " -0.0025558472182589803,\n",
              " 0.0008788162280692902,\n",
              " -0.0004563969341858515,\n",
              " 0.0019182211699226986,\n",
              " 0.0015809394417633932,\n",
              " 0.0010920406771710855,\n",
              " -0.001137661459910122,\n",
              " 0.0005968092035040923,\n",
              " 0.00033494461070962545,\n",
              " 9.447248729051172e-05,\n",
              " -0.0008348639622512144,\n",
              " 0.00010135773686166527,\n",
              " 0.000961437517551067,\n",
              " 0.0009268083304389552,\n",
              " 0.0037010505906656527,\n",
              " -0.0004220576602971815,\n",
              " 0.0016358321420513189,\n",
              " 0.0006932606801447333,\n",
              " -0.0010895107579535074,\n",
              " 0.0010373884343214401,\n",
              " 0.0015809206826724598,\n",
              " -0.0012271577667316291,\n",
              " 0.0022896750455242143,\n",
              " -0.0011721934408237822,\n",
              " 0.00010828903147416802,\n",
              " 0.0009476874828716203,\n",
              " -0.0016126072505665695,\n",
              " -0.0002977718614047137,\n",
              " 0.0005416743404060009,\n",
              " 0.0004521439261464255,\n",
              " -5.7253692944250756e-05,\n",
              " 0.0018353747713497764,\n",
              " -0.0005663238806296184,\n",
              " -0.001124216686801252,\n",
              " 0.0006930202227064669,\n",
              " -0.0014201118811699998,\n",
              " -0.0012204038307969817,\n",
              " -0.0010621897526443963,\n",
              " -0.00097242399706228,\n",
              " 0.0013881558645152808,\n",
              " 0.002234761880773456,\n",
              " -0.0018945784623217998,\n",
              " 0.0007274396490745683,\n",
              " 0.0018973573658371545,\n",
              " 0.0006514580356099392,\n",
              " -0.0013789299920077686,\n",
              " 0.0005348556003390431,\n",
              " -0.002748211274019044,\n",
              " 0.0006313531220210611,\n",
              " -0.00011213786637265244,\n",
              " 0.001016707105029463,\n",
              " 0.0015463477728331343,\n",
              " 0.002296768350467479,\n",
              " -0.000174110228628635,\n",
              " 5.288301424355435e-05,\n",
              " -0.002452338249485028,\n",
              " 6.677630016281577e-05,\n",
              " 0.00045900359513903477,\n",
              " 0.000686148616110549,\n",
              " -5.012969130674394e-05,\n",
              " 0.0002663683852464488,\n",
              " -0.00044269294454776786,\n",
              " 0.00042490818943244357,\n",
              " 0.0011475404898563524,\n",
              " 0.002262406906744077,\n",
              " 0.0004520433092041892,\n",
              " -0.0001258691419611796,\n",
              " -0.00041519116981697524,\n",
              " 0.0004931518673746138,\n",
              " 0.0022415243435676135,\n",
              " -9.174815567605799e-05,\n",
              " -8.473159246839834e-05,\n",
              " -0.0026244558457882983,\n",
              " 0.0011886746286053212,\n",
              " -0.0004495338544494437,\n",
              " -0.0011585747197808416,\n",
              " 0.00019053343376546072,\n",
              " 5.097261874115189e-06,\n",
              " 0.0002939315533657394,\n",
              " 0.0006791746872004817,\n",
              " -0.0002497627053160423,\n",
              " -0.0003394073794930619,\n",
              " 0.003205409827742034,\n",
              " 4.590766419024228e-06,\n",
              " 0.004065803396861509,\n",
              " 5.97853175337143e-05,\n",
              " -0.00013274927541660764,\n",
              " -0.000490662877082701,\n",
              " -0.0005046346101094945,\n",
              " -0.002418166102042832,\n",
              " -0.0021841784657977287,\n",
              " 0.0020556942307667497,\n",
              " -0.0007729649309870523,\n",
              " -0.0012477623542879596,\n",
              " 8.72973244959302e-05,\n",
              " 8.743545962004717e-05,\n",
              " -0.0010413225378150398,\n",
              " -0.001943201552295451,\n",
              " -0.00018797963934126527,\n",
              " 0.0016707103134612211,\n",
              " 0.000521003243345447,\n",
              " 0.000637796680269434,\n",
              " -7.098496853276404e-05,\n",
              " 0.00023175966259716962,\n",
              " 0.000335140728478428,\n",
              " -0.002472845630842921,\n",
              " -0.0018948445003386105,\n",
              " 0.0006654758136780958,\n",
              " -0.0015574826196998737,\n",
              " -0.0008488476328813166,\n",
              " 0.0005003304409130077,\n",
              " 0.0018354532184573086,\n",
              " 0.0005760784184269535,\n",
              " -0.0005320801075675147,\n",
              " -0.0004357241317534122,\n",
              " 0.0010096240323176214,\n",
              " -0.002720823759205737,\n",
              " 0.0011127936320829424,\n",
              " 0.0003830765535753067,\n",
              " -0.001956837327057412,\n",
              " -0.001571430477520036,\n",
              " 0.0016430345907963578,\n",
              " -0.0004016219045591962,\n",
              " -0.001399297532869645,\n",
              " -0.0006833236675538173,\n",
              " 9.442644224914865e-05,\n",
              " -0.001020707718027286,\n",
              " -9.829915235427811e-05,\n",
              " 4.614101591222941e-05,\n",
              " 0.002365492943286168,\n",
              " -0.0010759039745138893,\n",
              " 0.0010646753321924968,\n",
              " -0.00024988890283682286,\n",
              " 0.0003557981825637463,\n",
              " 0.0009477045365906406,\n",
              " 0.0017666894020848256,\n",
              " 1.1694303593698385e-05,\n",
              " -0.0001811012112577226,\n",
              " 0.001739172279006912,\n",
              " -0.0009653972016232248,\n",
              " 1.8427775065513186e-05,\n",
              " 0.0008993508953776125,\n",
              " -0.0024520244610549413,\n",
              " -0.0009520496347127927,\n",
              " 0.0021110303277493553,\n",
              " 0.00014254303676770885,\n",
              " -0.0016193782402202372,\n",
              " -0.0005526591145453008,\n",
              " 0.00013554352727908336,\n",
              " -0.0016883432904772205,\n",
              " 0.0008103184497136318,\n",
              " -0.0004905520279090414,\n",
              " 0.00011510777154111196,\n",
              " 0.0024413159571638476,\n",
              " -0.0001535892042955206,\n",
              " 9.419962778609015e-05,\n",
              " 0.00037640106474819135,\n",
              " -0.0006630789134689369,\n",
              " -0.0021011871106130786,\n",
              " 0.0023795243643295605,\n",
              " -0.0015782969680002423,\n",
              " -4.360939132276587e-05,\n",
              " -0.0016402454550495799,\n",
              " -0.0013440467044821547,\n",
              " 0.0021589542152428975,\n",
              " 0.002523765004083467,\n",
              " -0.0012545947373301253,\n",
              " 0.001195798630242828,\n",
              " -0.00044941106767246164,\n",
              " 9.420815464561416e-05,\n",
              " 0.0006105183092578736,\n",
              " 0.0011542159786834677,\n",
              " -0.0013856310614134282,\n",
              " -9.146676931212627e-05,\n",
              " 0.00020440454985000411,\n",
              " 1.8685286222813735e-05,\n",
              " 0.0020902074525894765,\n",
              " 0.001526111545607764,\n",
              " -0.0006765424456687541,\n",
              " -0.00040140532232757486,\n",
              " -0.0014955835884357255,\n",
              " -0.0007109772203839626,\n",
              " 0.0014986592266621468,\n",
              " -6.405196854834816e-05,\n",
              " -0.000408109802477033,\n",
              " -0.0024109841177606117,\n",
              " -0.00018110291662963574,\n",
              " -0.0016884575503946786,\n",
              " -0.00019484612982147154,\n",
              " 0.00021125057586737772,\n",
              " 0.00021103569900765562,\n",
              " 0.0001425839656933603,\n",
              " -0.0009999053073302538,\n",
              " -0.0004081763119812426,\n",
              " 0.0007341185486454682,\n",
              " 0.0002182227994055458,\n",
              " -0.0005732978095396996,\n",
              " 0.00020451539902367755,\n",
              " -0.0005116017175319648,\n",
              " 0.0006584848310490082,\n",
              " 0.0009821478381653592,\n",
              " -0.0020669962040799628,\n",
              " -0.0014886147756413698,\n",
              " 0.0011473358452280397,\n",
              " -0.0003462210034442942,\n",
              " -0.0011786711065101957,\n",
              " -0.0006351849032005391,\n",
              " -0.0003187789167300864,\n",
              " -0.0001809477277864846,\n",
              " -0.001550667290376756,\n",
              " -0.0004495185061023227,\n",
              " 0.0007136316317504082,\n",
              " 0.00028689111495146247,\n",
              " -5.020302229855056e-05,\n",
              " 0.00031469815125283185,\n",
              " 0.000700040196657925,\n",
              " 0.0001907227300466663,\n",
              " 8.756506788465401e-05,\n",
              " 0.0013127728365884828,\n",
              " -0.0005870290851282128,\n",
              " -0.00011219755438925116,\n",
              " 0.0015121653931595147,\n",
              " 0.0011678807447677853,\n",
              " -0.00023610476071933562,\n",
              " 0.0004454616158317132,\n",
              " 1.8369792420813713e-05,\n",
              " 0.0015603263273475387,\n",
              " 0.001339849973715529,\n",
              " -0.0017847930617459623,\n",
              " -0.0013854809886859887,\n",
              " 0.0009063180028000828,\n",
              " 0.0017115579497305466,\n",
              " -0.0008347786936560714,\n",
              " -0.001413079969615233,\n",
              " -0.0005941906049476003,\n",
              " 0.00043150864189585303,\n",
              " -0.00026363211602867254,\n",
              " -0.00031162421839833754,\n",
              " 0.00046589737156969846,\n",
              " -0.0004015127607574359,\n",
              " -9.839124243701813e-05,\n",
              " -0.0007180125426825279,\n",
              " 0.0005278202780404917,\n",
              " -0.0018262000599993528,\n",
              " 0.0010650573354986925,\n",
              " -0.0017914890150358964,\n",
              " 0.0003972375828832919,\n",
              " -0.00034602147493167923,\n",
              " 0.0010785856718307923,\n",
              " 0.000713860151585366,\n",
              " -0.00024312473467077989,\n",
              " -0.0014543249575378753,\n",
              " -0.0012339867390299825,\n",
              " -0.00013977777622757592,\n",
              " -0.001027772031648208,\n",
              " -8.73292528477676e-06,\n",
              " 0.0012093235558311294,\n",
              " 0.001167984772453834,\n",
              " 0.0015191478489290922,\n",
              " 0.0007481926039864251,\n",
              " -0.0007108544336069805,\n",
              " 0.0014984648142652296,\n",
              " 0.00034880208381894706,\n",
              " -0.0016057424654582625,\n",
              " 5.295634523536097e-05,\n",
              " 0.002338057678059585,\n",
              " 0.0018356612738294198,\n",
              " 0.000995862060034866,\n",
              " -0.00022206822356024558,\n",
              " 7.377069353572963e-05,\n",
              " -0.001942932103534828,\n",
              " -0.0003875631975653743,\n",
              " -0.0008832500055303838,\n",
              " 0.0003967993023043098,\n",
              " 0.001305396439909387,\n",
              " 0.001174851262934054,\n",
              " 0.00031448668513690825,\n",
              " 0.0003282793541139195,\n",
              " -0.0017845884171176357,\n",
              " -3.61221454699967e-05,\n",
              " -0.0007931926313529125,\n",
              " -0.0015437018883261988,\n",
              " 0.001966247379730404,\n",
              " -0.0012408344704192553,\n",
              " -0.0007591876103571621,\n",
              " -0.0006286560763570509,\n",
              " 0.0009201942350003239,\n",
              " 0.0011405222212768074,\n",
              " 0.0004590956852217748,\n",
              " -0.00025698732389579926,\n",
              " -0.00035296641251941763,\n",
              " -0.0006765901960820303,\n",
              " -0.0008898811546880353,\n",
              " -0.0016814085851208915,\n",
              " -0.0011654156296825174,\n",
              " -0.0031887563973983374,\n",
              " -1.609567898863684e-05,\n",
              " -0.00035305850260215765,\n",
              " 0.0009889341761661619,\n",
              " -0.0020118835108165756,\n",
              " 0.0006173131741181725,\n",
              " -0.0005733302116058547,\n",
              " 0.002689041690485061,\n",
              " -0.004510366186957646,\n",
              " -0.0015232814809353346,\n",
              " -0.001412888967962142,\n",
              " 0.0009749914344616972,\n",
              " -1.9602302591958942e-06,\n",
              " -0.0003805756256800852,\n",
              " -0.0005595545963478776,\n",
              " 0.0009341335659609623,\n",
              " -1.6099089732449223e-05,\n",
              " -0.0004840197903217408,\n",
              " 0.0019801014420959273,\n",
              " -0.0005593755322980815,\n",
              " -0.000669699830395179,\n",
              " -0.0009586858999861558,\n",
              " -0.00010532424242142013,\n",
              " -0.0007660796814159126,\n",
              " -0.000614643414404592,\n",
              " -0.0013924105779265922,\n",
              " -0.0007110965964171462,\n",
              " 1.1747170122686224e-05,\n",
              " 0.0001907329622780618,\n",
              " 0.0004177227944064388,\n",
              " 0.0008100558224406196,\n",
              " 0.0014639942267400813,\n",
              " 0.00040404438534691334,\n",
              " 0.0007274481759340645,\n",
              " -0.0011994104184468446,\n",
              " -0.000366767608355939,\n",
              " -0.00035301416293269383,\n",
              " -4.3490015289582296e-05,\n",
              " -0.00018099377282786155,\n",
              " 0.0016221963672893441,\n",
              " -0.0012963376938483345,\n",
              " 0.001057935039233085,\n",
              " 0.0012161678764766037,\n",
              " 0.001009651318268065,\n",
              " 0.0001975499969731065,\n",
              " -0.0032441351286785075,\n",
              " 0.0013814019285806473,\n",
              " -0.0004908487626200941,\n",
              " 0.0011541085402535928,\n",
              " 0.0007001152330216309,\n",
              " 9.401885836442248e-05,\n",
              " 0.00032832198841149796,\n",
              " -0.0019911356720204304,\n",
              " 0.00028692351701761765,\n",
              " 0.0006173489869281262,\n",
              " 0.0010235019698897757,\n",
              " 0.0015396279443365413,\n",
              " -0.0003806301975809723,\n",
              " -0.0004770202808331153,\n",
              " -0.001550551325087371,\n",
              " 0.0023175417698421824,\n",
              " -0.00023612693055406753,\n",
              " 0.000548431687084433,\n",
              " -0.0008006832879494941,\n",
              " -0.00260388195492621,\n",
              " 0.0005485527684895158,\n",
              " -0.0007182376517736871,\n",
              " 0.0022899751909790794,\n",
              " -0.0011444341549357029,\n",
              " 0.000617516113374586,\n",
              " 0.00019742550482421128,\n",
              " 0.0017803388198220221,\n",
              " -0.0015578748552374927,\n",
              " 0.001326297762176784,\n",
              " 0.001340073377434775,\n",
              " -0.0006077990937591177,\n",
              " 0.0009751568555362577,\n",
              " -0.0005662334959187776,\n",
              " 0.0006516149298249896,\n",
              " -0.00011210716967841039,\n",
              " -0.0008829106365217526,\n",
              " -0.001316621671486981,\n",
              " 0.000541597598670368,\n",
              " 0.00028015764347966154,\n",
              " 0.0007139096073705553,\n",
              " -0.000951783596695982,\n",
              " -0.0005662727194725437,\n",
              " 0.00044522627450914454,\n",
              " 0.0014845442423955246,\n",
              " -0.0007864710974844202,\n",
              " 0.00019768642672532422,\n",
              " 0.0008239491083598949,\n",
              " -0.001454154420347617,\n",
              " -0.00027740943665856277,\n",
              " -0.0011101596851793294,\n",
              " 0.00013562709050231325,\n",
              " -0.0002085620570628638,\n",
              " -0.0008486719795753467,\n",
              " -0.0010895568029948843,\n",
              " -0.001832827798413178,\n",
              " 0.0007412169697044446,\n",
              " -0.00037363409883615917,\n",
              " 0.0010442805053801768,\n",
              " 0.0001837198098142423,\n",
              " -0.0015850509039348898,\n",
              " -0.001908748018489309,\n",
              " 8.034215467678241e-05,\n",
              " -9.818830318060467e-05,\n",
              " 0.00013569360000650899,\n",
              " -0.0006008865582375345,\n",
              " 0.0017253864315175116,\n",
              " -0.0033745336436702134,\n",
              " -1.584840006275956e-05,\n",
              " -0.0017364701172271901,\n",
              " -0.000834875899854523,\n",
              " -0.002383398779806589,\n",
              " 0.0013057153444551856,\n",
              " 0.001814770183793446,\n",
              " 0.0012023803236152902,\n",
              " 0.0014157906582544927,\n",
              " -0.0011101699174107527,\n",
              " 0.00185606462750125,\n",
              " 1.1566400701004675e-05,\n",
              " 0.00041097738533131534,\n",
              " 0.0010372861120072768,\n",
              " 0.0023793163089574493,\n",
              " -0.0007179579707816547,\n",
              " 0.002502887557022687,\n",
              " -8.466849370801499e-05,\n",
              " -0.0003803607488203631,\n",
              " -0.0027346181335546477,\n",
              " 0.0019456768996121282,\n",
              " -0.0012202128291438907,\n",
              " 0.0005415788395794346,\n",
              " 0.0014433777015804145,\n",
              " -0.0014062714617797123,\n",
              " -0.0003668511715791689,\n",
              " -0.0006905380539021649,\n",
              " -0.0006213069656283987,\n",
              " 0.0008446014463295154,\n",
              " 1.854032961108587e-05,\n",
              " 0.00252391166606708,\n",
              " -0.002245657975573842,\n",
              " 0.0010235087913773866,\n",
              " -0.00042862912143824816,\n",
              " -0.0014061810770688715,\n",
              " 0.0019111619724175022,\n",
              " -0.00098619279083266,\n",
              " -0.0006835266068102308,\n",
              " 0.0021247633087097817,\n",
              " -0.00042880989085991583,\n",
              " -0.0009107500748892772,\n",
              " -0.0005390830277999387,\n",
              " -0.000539054036477582,\n",
              " -0.0007933989813531384,\n",
              " 0.0014775191523283687,\n",
              " 0.0019319183380731714,\n",
              " 3.909546138224085e-05,\n",
              " 0.0007823920373790788,\n",
              " 0.0006724258673815459,\n",
              " -0.0013164528396686082,\n",
              " -0.0004015571004269136,\n",
              " 0.0012297883028914436,\n",
              " 0.0023725384978161707,\n",
              " -0.0006973533832253104,\n",
              " -0.0007315801025683938,\n",
              " -5.0264415687048536e-05,\n",
              " -0.001468121037258699,\n",
              " -0.001206539536200063,\n",
              " 0.002166054341673787,\n",
              " -0.0019085058556791296,\n",
              " -0.0011998111808439599,\n",
              " 0.0014980333551738723,\n",
              " -0.0009520070004152281,\n",
              " -7.787362884770221e-05,\n",
              " 0.0004936413091106567,\n",
              " -0.0006971998997540585,\n",
              " -0.0004836582514783777,\n",
              " 0.000403902839478984,\n",
              " 0.0005483430077454915,\n",
              " -0.00046320544202137215,\n",
              " -0.0004221088214542562,\n",
              " -0.0012756665967877945,\n",
              " 0.0006585121169994379,\n",
              " 0.001408850836782452,\n",
              " 0.00021788172502501535,\n",
              " 0.0006450315310806143,\n",
              " 0.00038315670605473806,\n",
              " -3.6606471090341874e-05,\n",
              " -0.001688307477667253,\n",
              " -0.0006492214403596291,\n",
              " -7.096279869803213e-05,\n",
              " 0.0018768806811735178,\n",
              " 0.0007826239679578351,\n",
              " 0.0006104773803322222,\n",
              " 0.001140479586979229,\n",
              " 0.0013607376530077042,\n",
              " -0.0008485696572611834,\n",
              " 1.1801742023573314e-05,\n",
              " -0.00048412722875161573,\n",
              " 8.732290507446061e-05,\n",
              " -0.0032438264563641322,\n",
              " 0.00145016233420929,\n",
              " 0.0006932504479133239,\n",
              " 0.0021591247524331697,\n",
              " -0.0012340566592779906,\n",
              " -0.0007456302827027056,\n",
              " -0.002245826807392201,\n",
              " -0.0010274940560280887,\n",
              " 0.0006447535554604811,\n",
              " 0.0007962256352817554,\n",
              " 8.071392575156877e-05,\n",
              " 0.0014292558958261953,\n",
              " 8.736724474393831e-05,\n",
              " 0.0009474453200614408,\n",
              " -0.00119972761762073,\n",
              " 0.00018385282882263376,\n",
              " -0.0025212470224692113,\n",
              " -0.001220277633276201,\n",
              " 0.0023999106642823564,\n",
              " 0.00036276699535811585,\n",
              " -0.0011999680750590241,\n",
              " -0.0002496706152332884,\n",
              " -0.0018328397360165005,\n",
              " -0.0024041585562060708,\n",
              " 0.0011335806944328813,\n",
              " -4.3585516116120826e-05,\n",
              " -0.0018675388433766205,\n",
              " -0.0012202810440199996,\n",
              " 0.0006999327582280501,\n",
              " 3.2244319249155606e-05,\n",
              " -0.0013303017859184196,\n",
              " 0.0009545386250047055,\n",
              " 0.0020831294959933327,\n",
              " 0.0008581229611740043,\n",
              " 0.0007208613664459046,\n",
              " 0.0010028121137383023,\n",
              " -0.0005185585927230119,\n",
              " -8.480662883211809e-05,\n",
              " 0.0010509918070172597,\n",
              " -0.0005459341699330239,\n",
              " -0.001447611950528907,\n",
              " -0.00038027889096901857,\n",
              " -0.0014542448050584578,\n",
              " -0.0002913112494373482,\n",
              " 0.0019114655286161658,\n",
              " 0.0006863055103255994,\n",
              " -0.0013303034912903189,\n",
              " 0.0012780413271622076,\n",
              " -0.0002568389565402729,\n",
              " 0.0010578838780759964,\n",
              " 0.0005554397234325686,\n",
              " 0.00094072037544915,\n",
              " -0.0007661223157134772,\n",
              " -0.0026865646377964847,\n",
              " -0.00029787418371887697,\n",
              " -0.001536968416854384,\n",
              " -0.002328332131584593,\n",
              " 0.0013745166790094937,\n",
              " -0.0012134486609778478,\n",
              " -0.0014403822158334245,\n",
              " 0.0005139014115426721,\n",
              " 1.833397961086003e-05,\n",
              " 0.0007824039749823875,\n",
              " -0.0007110505513757692,\n",
              " -0.0009037983158139418,\n",
              " 0.00010810314593678871,\n",
              " 0.0017119024348548756,\n",
              " 0.0003008065707054697,\n",
              " -0.000490816360553939,\n",
              " -0.0017917414100774853,\n",
              " -0.0007591279223405772,\n",
              " -0.0006283150019765205,\n",
              " 0.0003763908325167681,\n",
              " -0.001199852109769639,\n",
              " -0.0016471818657777942,\n",
              " -0.0008072325792558149,\n",
              " -0.0004424763623161465,\n",
              " -0.0006217094333974132,\n",
              " 0.0006585155277432364,\n",
              " 0.0016154441367266098,\n",
              " 7.355070056029589e-05,\n",
              " 0.0007824517253956637,\n",
              " 0.0009613863563939784,\n",
              " 0.0005006339971116713,\n",
              " 0.0014777306184442923,\n",
              " -0.0019430446580804006,\n",
              " 0.0006101976993401897,\n",
              " -0.001082651088960912,\n",
              " -0.0009243295723784656,\n",
              " 0.0001560901321907282,\n",
              " -0.00024978316977886106,\n",
              " 0.0015948992371868642,\n",
              " -0.0033609814321314685,\n",
              " -0.00020178936203731068,\n",
              " 0.0009338044291837544,\n",
              " -0.0010689709745294734,\n",
              " -0.0004218820069912116,\n",
              " 0.001532991679063192,\n",
              " 0.0001426470644537714,\n",
              " 0.0015602836930499742,\n",
              " 0.002062819937776156,\n",
              " 0.0005143465136092512,\n",
              " 0.00032802695907234447,\n",
              " 3.2350052307117405e-05,\n",
              " 0.00094090455561463,\n",
              " -0.0006832469258181983,\n",
              " 0.00017720633131786123,\n",
              " -0.001585236789472283,\n",
              " 0.0004729599798187073,\n",
              " 0.0009063333511472038,\n",
              " 0.002757955579584956,\n",
              " -0.000917437501319715,\n",
              " 0.001484593698180714,\n",
              " 0.00032127813925340865,\n",
              " -0.0010482708861465906,\n",
              " 6.653413735263625e-05,\n",
              " 0.0005139798586501904,\n",
              " -0.0005046158510185611,\n",
              " 0.0018150942044549423,\n",
              " 0.0020554469518408586,\n",
              " -2.3507604249017877e-06,\n",
              " 0.00026604948070066414,\n",
              " -2.2694426080147045e-05,\n",
              " -0.002514343013807152,\n",
              " 0.0007135293094362588,\n",
              " 0.00029349668353058356,\n",
              " 0.00015584285326485092,\n",
              " 0.0009270453771334092,\n",
              " 0.000493405967788102,\n",
              " 8.03813782305346e-05,\n",
              " -0.0007107640488961398,\n",
              " -0.0036222355017847957,\n",
              " 0.0009476823667558948,\n",
              " 0.00033533514087531746,\n",
              " ...]"
            ]
          },
          "metadata": {
            "tags": []
          },
          "execution_count": 30
        }
      ]
    },
    {
      "cell_type": "markdown",
      "metadata": {
        "id": "ZGkFKpOXgx9_"
      },
      "source": [
        "i. Plot a histogram of the **p_diffs**.  Does this plot look like what you expected?  Use the matching problem in the classroom to assure you fully understand what was computed here."
      ]
    },
    {
      "cell_type": "code",
      "metadata": {
        "colab": {
          "base_uri": "https://localhost:8080/",
          "height": 372
        },
        "id": "rxx1nYwfgx9_",
        "outputId": "645e5c51-ec29-44b5-f0c4-57b938e680b7"
      },
      "source": [
        "plt.hist(np.array(p_diffs))"
      ],
      "execution_count": 31,
      "outputs": [
        {
          "output_type": "execute_result",
          "data": {
            "text/plain": [
              "(array([   5.,   42.,  268., 1162., 2503., 3043., 2097.,  727.,  139.,\n",
              "          14.]),\n",
              " array([-0.00517779, -0.00420456, -0.00323134, -0.00225811, -0.00128489,\n",
              "        -0.00031166,  0.00066156,  0.00163479,  0.00260801,  0.00358124,\n",
              "         0.00455446]),\n",
              " <a list of 10 Patch objects>)"
            ]
          },
          "metadata": {
            "tags": []
          },
          "execution_count": 31
        },
        {
          "output_type": "display_data",
          "data": {
            "image/png": "[encoded data removed]",
            "text/plain": [
              "<Figure size 432x288 with 1 Axes>"
            ]
          },
          "metadata": {
            "tags": [],
            "needs_background": "light"
          }
        }
      ]
    },
    {
      "cell_type": "markdown",
      "metadata": {
        "id": "0EFQPdSDgx9_"
      },
      "source": [
        "j. What proportion of the **p_diffs** are greater than the actual difference observed in **ab_data.csv**?"
      ]
    },
    {
      "cell_type": "code",
      "metadata": {
        "colab": {
          "base_uri": "https://localhost:8080/"
        },
        "collapsed": true,
        "id": "V_4KNbXhgx-A",
        "outputId": "e0ca3411-9a65-4e50-d938-882f7f54ad7e"
      },
      "source": [
        "#let's calculate obs_diff\n",
        "pold_obs = old_page_converted.query('converted == 1').user_id.nunique() / old_page_converted.user_id.nunique()\n",
        "pnew_obs = new_page_converted.query('converted == 1').user_id.nunique() / new_page_converted.user_id.nunique()\n",
        "\n",
        "# difference of pold_obs and pnew_obs\n",
        "obs_diff=pnew_obs-pold_obs\n",
        "\n",
        "# proportion of the p_diffs are greater than the actual difference observed\n",
        "(np.array(p_diffs) > obs_diff).mean()"
      ],
      "execution_count": 32,
      "outputs": [
        {
          "output_type": "execute_result",
          "data": {
            "text/plain": [
              "0.9035"
            ]
          },
          "metadata": {
            "tags": []
          },
          "execution_count": 32
        }
      ]
    },
    {
      "cell_type": "markdown",
      "metadata": {
        "id": "SNIGG6Ehgx-A"
      },
      "source": [
        "k. In words, explain what you just computed in part **j.**  What is this value called in scientific studies?  What does this value mean in terms of whether or not there is a difference between the new and old pages?"
      ]
    },
    {
      "cell_type": "markdown",
      "metadata": {
        "id": "KQRok8HYgx-A"
      },
      "source": [
        "**In j. we computed p-value, and we found that it's greater than 0.05, then we could not reject H0. So there no impact in conversion when we switch from old page to new page.**"
      ]
    },
    {
      "cell_type": "markdown",
      "metadata": {
        "id": "hlIykjyUgx-A"
      },
      "source": [
        "l. We could also use a built-in to achieve similar results.  Though using the built-in might be easier to code, the above portions are a walkthrough of the ideas that are critical to correctly thinking about statistical significance. Fill in the below to calculate the number of conversions for each page, as well as the number of individuals who received each page. Let `n_old` and `n_new` refer the the number of rows associated with the old page and new pages, respectively."
      ]
    },
    {
      "cell_type": "code",
      "metadata": {
        "colab": {
          "base_uri": "https://localhost:8080/"
        },
        "collapsed": true,
        "id": "n2xAel0Ogx-B",
        "outputId": "7d3c79f2-99a9-444f-c451-3adc1b74c830"
      },
      "source": [
        "import statsmodels.api as sm\n",
        "\n",
        "convert_old =old_page_converted.query('converted == 1').user_id.nunique()\n",
        "convert_new =new_page_converted.query('converted == 1').user_id.nunique()  \n",
        "n_old = old_page_converted.user_id.nunique()\n",
        "n_new = new_page_converted.user_id.nunique()"
      ],
      "execution_count": 33,
      "outputs": [
        {
          "output_type": "stream",
          "text": [
            "/usr/local/lib/python3.6/dist-packages/statsmodels/tools/_testing.py:19: FutureWarning: pandas.util.testing is deprecated. Use the functions in the public API at pandas.testing instead.\n",
            "  import pandas.util.testing as tm\n"
          ],
          "name": "stderr"
        }
      ]
    },
    {
      "cell_type": "markdown",
      "metadata": {
        "id": "2A5wxMUwgx-B"
      },
      "source": [
        "m. Now use `stats.proportions_ztest` to compute your test statistic and p-value.  [Here](http://knowledgetack.com/python/statsmodels/proportions_ztest/) is a helpful link on using the built in."
      ]
    },
    {
      "cell_type": "code",
      "metadata": {
        "collapsed": true,
        "id": "oWJkFGe9gx-B"
      },
      "source": [
        "from statsmodels.stats.proportion import proportions_ztest\n",
        "\n",
        "converted = np.array([convert_old , convert_new])\n",
        "sizes_samples = np.array([n_old, n_new])\n",
        "# note, no need for a Ho value here - it's derived from the other parameters\n",
        "stat, p_value = proportions_ztest(count=converted, nobs=sizes_samples,alternative='smaller')"
      ],
      "execution_count": 34,
      "outputs": []
    },
    {
      "cell_type": "code",
      "metadata": {
        "colab": {
          "base_uri": "https://localhost:8080/"
        },
        "id": "xptcaL4LmQEF",
        "outputId": "5ded6102-01a6-4242-a91a-6f1e3fff0893"
      },
      "source": [
        "print(p_value)"
      ],
      "execution_count": 35,
      "outputs": [
        {
          "output_type": "stream",
          "text": [
            "0.9050583127590245\n"
          ],
          "name": "stdout"
        }
      ]
    },
    {
      "cell_type": "markdown",
      "metadata": {
        "id": "vmbhJBo-gx-C"
      },
      "source": [
        "n. What do the z-score and p-value you computed in the previous question mean for the conversion rates of the old and new pages?  Do they agree with the findings in parts **j.** and **k.**?"
      ]
    },
    {
      "cell_type": "markdown",
      "metadata": {
        "id": "Xhr1_Aj1gx-C"
      },
      "source": [
        "**p-value is greater than 0.05, so again we could not reject H0. wich confirm the observation in pats j. and k.**"
      ]
    },
    {
      "cell_type": "markdown",
      "metadata": {
        "id": "zGjNF8__gx-D"
      },
      "source": [
        "<a id='regression'></a>\n",
        "### Part III - A regression approach\n",
        "\n",
        "`1.` In this final part, you will see that the result you acheived in the previous A/B test can also be acheived by performing regression.<br><br>\n",
        "\n",
        "a. Since each row is either a conversion or no conversion, what type of regression should you be performing in this case?"
      ]
    },
    {
      "cell_type": "markdown",
      "metadata": {
        "id": "ErkyGs_6gx-E"
      },
      "source": [
        "**In this case we can use logistic regression.**"
      ]
    },
    {
      "cell_type": "markdown",
      "metadata": {
        "id": "r35uthM8gx-F"
      },
      "source": [
        "b. The goal is to use **statsmodels** to fit the regression model you specified in part **a.** to see if there is a significant difference in conversion based on which page a customer receives.  However, you first need to create a column for the intercept, and create a dummy variable column for which page each user received.  Add an **intercept** column, as well as an **ab_page** column, which is 1 when an individual receives the **treatment** and 0 if **control**."
      ]
    },
    {
      "cell_type": "code",
      "metadata": {
        "collapsed": true,
        "id": "g6G55Fwigx-G"
      },
      "source": [
        "df2['intercept'] = 1\n",
        "df2[['old_page','new_page']] = pd.get_dummies(df2['landing_page'])\n",
        "df2 = df2.drop('old_page', axis=1)\n",
        "df2['ab_page']=df2['group'].replace({'control': 0, 'treatment': 1})\n"
      ],
      "execution_count": 36,
      "outputs": []
    },
    {
      "cell_type": "code",
      "metadata": {
        "colab": {
          "base_uri": "https://localhost:8080/",
          "height": 428
        },
        "id": "XKgGQ0_jq_I0",
        "outputId": "4fc50a1a-7be9-4161-e7c4-b0b2962c19be"
      },
      "source": [
        "df2 = df2.drop('group', axis=1)\n",
        "df2 = df2.drop('landing_page', axis=1)\n",
        "df2"
      ],
      "execution_count": 37,
      "outputs": [
        {
          "output_type": "execute_result",
          "data": {
            "text/html": [
              "<div>\n",
              "<style scoped>\n",
              "    .dataframe tbody tr th:only-of-type {\n",
              "        vertical-align: middle;\n",
              "    }\n",
              "\n",
              "    .dataframe tbody tr th {\n",
              "        vertical-align: top;\n",
              "    }\n",
              "\n",
              "    .dataframe thead th {\n",
              "        text-align: right;\n",
              "    }\n",
              "</style>\n",
              "<table border=\"1\" class=\"dataframe\">\n",
              "  <thead>\n",
              "    <tr style=\"text-align: right;\">\n",
              "      <th></th>\n",
              "      <th>user_id</th>\n",
              "      <th>timestamp</th>\n",
              "      <th>converted</th>\n",
              "      <th>intercept</th>\n",
              "      <th>new_page</th>\n",
              "      <th>ab_page</th>\n",
              "    </tr>\n",
              "  </thead>\n",
              "  <tbody>\n",
              "    <tr>\n",
              "      <th>0</th>\n",
              "      <td>661590</td>\n",
              "      <td>2017-01-11 16:55:06.154213</td>\n",
              "      <td>0</td>\n",
              "      <td>1</td>\n",
              "      <td>0</td>\n",
              "      <td>1</td>\n",
              "    </tr>\n",
              "    <tr>\n",
              "      <th>1</th>\n",
              "      <td>853541</td>\n",
              "      <td>2017-01-08 18:28:03.143765</td>\n",
              "      <td>0</td>\n",
              "      <td>1</td>\n",
              "      <td>0</td>\n",
              "      <td>1</td>\n",
              "    </tr>\n",
              "    <tr>\n",
              "      <th>2</th>\n",
              "      <td>679687</td>\n",
              "      <td>2017-01-19 03:26:46.940749</td>\n",
              "      <td>1</td>\n",
              "      <td>1</td>\n",
              "      <td>0</td>\n",
              "      <td>1</td>\n",
              "    </tr>\n",
              "    <tr>\n",
              "      <th>3</th>\n",
              "      <td>817355</td>\n",
              "      <td>2017-01-04 17:58:08.979471</td>\n",
              "      <td>1</td>\n",
              "      <td>1</td>\n",
              "      <td>0</td>\n",
              "      <td>1</td>\n",
              "    </tr>\n",
              "    <tr>\n",
              "      <th>4</th>\n",
              "      <td>839785</td>\n",
              "      <td>2017-01-15 18:11:06.610965</td>\n",
              "      <td>1</td>\n",
              "      <td>1</td>\n",
              "      <td>0</td>\n",
              "      <td>1</td>\n",
              "    </tr>\n",
              "    <tr>\n",
              "      <th>...</th>\n",
              "      <td>...</td>\n",
              "      <td>...</td>\n",
              "      <td>...</td>\n",
              "      <td>...</td>\n",
              "      <td>...</td>\n",
              "      <td>...</td>\n",
              "    </tr>\n",
              "    <tr>\n",
              "      <th>290580</th>\n",
              "      <td>718310</td>\n",
              "      <td>2017-01-21 22:44:20.378320</td>\n",
              "      <td>0</td>\n",
              "      <td>1</td>\n",
              "      <td>1</td>\n",
              "      <td>0</td>\n",
              "    </tr>\n",
              "    <tr>\n",
              "      <th>290581</th>\n",
              "      <td>751197</td>\n",
              "      <td>2017-01-03 22:28:38.630509</td>\n",
              "      <td>0</td>\n",
              "      <td>1</td>\n",
              "      <td>1</td>\n",
              "      <td>0</td>\n",
              "    </tr>\n",
              "    <tr>\n",
              "      <th>290582</th>\n",
              "      <td>945152</td>\n",
              "      <td>2017-01-12 00:51:57.078372</td>\n",
              "      <td>0</td>\n",
              "      <td>1</td>\n",
              "      <td>1</td>\n",
              "      <td>0</td>\n",
              "    </tr>\n",
              "    <tr>\n",
              "      <th>290583</th>\n",
              "      <td>734608</td>\n",
              "      <td>2017-01-22 11:45:03.439544</td>\n",
              "      <td>0</td>\n",
              "      <td>1</td>\n",
              "      <td>1</td>\n",
              "      <td>0</td>\n",
              "    </tr>\n",
              "    <tr>\n",
              "      <th>290584</th>\n",
              "      <td>697314</td>\n",
              "      <td>2017-01-15 01:20:28.957438</td>\n",
              "      <td>0</td>\n",
              "      <td>1</td>\n",
              "      <td>1</td>\n",
              "      <td>0</td>\n",
              "    </tr>\n",
              "  </tbody>\n",
              "</table>\n",
              "<p>290584 rows × 6 columns</p>\n",
              "</div>"
            ],
            "text/plain": [
              "        user_id                   timestamp  ...  new_page  ab_page\n",
              "0        661590  2017-01-11 16:55:06.154213  ...         0        1\n",
              "1        853541  2017-01-08 18:28:03.143765  ...         0        1\n",
              "2        679687  2017-01-19 03:26:46.940749  ...         0        1\n",
              "3        817355  2017-01-04 17:58:08.979471  ...         0        1\n",
              "4        839785  2017-01-15 18:11:06.610965  ...         0        1\n",
              "...         ...                         ...  ...       ...      ...\n",
              "290580   718310  2017-01-21 22:44:20.378320  ...         1        0\n",
              "290581   751197  2017-01-03 22:28:38.630509  ...         1        0\n",
              "290582   945152  2017-01-12 00:51:57.078372  ...         1        0\n",
              "290583   734608  2017-01-22 11:45:03.439544  ...         1        0\n",
              "290584   697314  2017-01-15 01:20:28.957438  ...         1        0\n",
              "\n",
              "[290584 rows x 6 columns]"
            ]
          },
          "metadata": {
            "tags": []
          },
          "execution_count": 37
        }
      ]
    },
    {
      "cell_type": "markdown",
      "metadata": {
        "id": "aHs6i3o1gx-G"
      },
      "source": [
        "c. Use **statsmodels** to import your regression model.  Instantiate the model, and fit the model using the two columns you created in part **b.** to predict whether or not an individual converts."
      ]
    },
    {
      "cell_type": "code",
      "metadata": {
        "colab": {
          "base_uri": "https://localhost:8080/"
        },
        "collapsed": true,
        "id": "raIyG36mgx-G",
        "outputId": "056f17a9-378d-4226-a36a-ee31bc8a475d"
      },
      "source": [
        "log_mod = sm.Logit(df2['converted'], df2[['intercept', 'ab_page']])\n",
        "results = log_mod.fit()\n"
      ],
      "execution_count": 38,
      "outputs": [
        {
          "output_type": "stream",
          "text": [
            "Optimization terminated successfully.\n",
            "         Current function value: 0.366118\n",
            "         Iterations 6\n"
          ],
          "name": "stdout"
        }
      ]
    },
    {
      "cell_type": "markdown",
      "metadata": {
        "id": "dAkxTxXigx-H"
      },
      "source": [
        "d. Provide the summary of your model below, and use it as necessary to answer the following questions."
      ]
    },
    {
      "cell_type": "code",
      "metadata": {
        "colab": {
          "base_uri": "https://localhost:8080/",
          "height": 256
        },
        "collapsed": true,
        "id": "MB-Oa2Fygx-H",
        "outputId": "a0ce72b3-c6d3-4883-cf08-396e5c353b87"
      },
      "source": [
        "results.summary()"
      ],
      "execution_count": 39,
      "outputs": [
        {
          "output_type": "execute_result",
          "data": {
            "text/html": [
              "<table class=\"simpletable\">\n",
              "<caption>Logit Regression Results</caption>\n",
              "<tr>\n",
              "  <th>Dep. Variable:</th>       <td>converted</td>    <th>  No. Observations:  </th>   <td>290584</td>   \n",
              "</tr>\n",
              "<tr>\n",
              "  <th>Model:</th>                 <td>Logit</td>      <th>  Df Residuals:      </th>   <td>290582</td>   \n",
              "</tr>\n",
              "<tr>\n",
              "  <th>Method:</th>                 <td>MLE</td>       <th>  Df Model:          </th>   <td>     1</td>   \n",
              "</tr>\n",
              "<tr>\n",
              "  <th>Date:</th>            <td>Tue, 19 Jan 2021</td> <th>  Pseudo R-squ.:     </th>  <td>8.077e-06</td> \n",
              "</tr>\n",
              "<tr>\n",
              "  <th>Time:</th>                <td>17:19:48</td>     <th>  Log-Likelihood:    </th> <td>-1.0639e+05</td>\n",
              "</tr>\n",
              "<tr>\n",
              "  <th>converged:</th>             <td>True</td>       <th>  LL-Null:           </th> <td>-1.0639e+05</td>\n",
              "</tr>\n",
              "<tr>\n",
              "  <th>Covariance Type:</th>     <td>nonrobust</td>    <th>  LLR p-value:       </th>   <td>0.1899</td>   \n",
              "</tr>\n",
              "</table>\n",
              "<table class=\"simpletable\">\n",
              "<tr>\n",
              "      <td></td>         <th>coef</th>     <th>std err</th>      <th>z</th>      <th>P>|z|</th>  <th>[0.025</th>    <th>0.975]</th>  \n",
              "</tr>\n",
              "<tr>\n",
              "  <th>intercept</th> <td>   -1.9888</td> <td>    0.008</td> <td> -246.669</td> <td> 0.000</td> <td>   -2.005</td> <td>   -1.973</td>\n",
              "</tr>\n",
              "<tr>\n",
              "  <th>ab_page</th>   <td>   -0.0150</td> <td>    0.011</td> <td>   -1.311</td> <td> 0.190</td> <td>   -0.037</td> <td>    0.007</td>\n",
              "</tr>\n",
              "</table>"
            ],
            "text/plain": [
              "<class 'statsmodels.iolib.summary.Summary'>\n",
              "\"\"\"\n",
              "                           Logit Regression Results                           \n",
              "==============================================================================\n",
              "Dep. Variable:              converted   No. Observations:               290584\n",
              "Model:                          Logit   Df Residuals:                   290582\n",
              "Method:                           MLE   Df Model:                            1\n",
              "Date:                Tue, 19 Jan 2021   Pseudo R-squ.:               8.077e-06\n",
              "Time:                        17:19:48   Log-Likelihood:            -1.0639e+05\n",
              "converged:                       True   LL-Null:                   -1.0639e+05\n",
              "Covariance Type:            nonrobust   LLR p-value:                    0.1899\n",
              "==============================================================================\n",
              "                 coef    std err          z      P>|z|      [0.025      0.975]\n",
              "------------------------------------------------------------------------------\n",
              "intercept     -1.9888      0.008   -246.669      0.000      -2.005      -1.973\n",
              "ab_page       -0.0150      0.011     -1.311      0.190      -0.037       0.007\n",
              "==============================================================================\n",
              "\"\"\""
            ]
          },
          "metadata": {
            "tags": []
          },
          "execution_count": 39
        }
      ]
    },
    {
      "cell_type": "markdown",
      "metadata": {
        "id": "_wHkbta4gx-H"
      },
      "source": [
        "e. What is the p-value associated with **ab_page**? Why does it differ from the value you found in **Part II**?<br><br>  **Hint**: What are the null and alternative hypotheses associated with your regression model, and how do they compare to the null and alternative hypotheses in the **Part II**?"
      ]
    },
    {
      "cell_type": "markdown",
      "metadata": {
        "id": "KKJzSFzxgx-I"
      },
      "source": [
        "**p-value for ab_page is 0.19, but in part II, it was 0.9.This difference is due to That regression model is set up as a two-tailed or two-sided test, whereas in Part II it was a one-sided test.**"
      ]
    },
    {
      "cell_type": "markdown",
      "metadata": {
        "id": "nq9b40GAgx-I"
      },
      "source": [
        "f. Now, you are considering other things that might influence whether or not an individual converts.  Discuss why it is a good idea to consider other factors to add into your regression model.  Are there any disadvantages to adding additional terms into your regression model?"
      ]
    },
    {
      "cell_type": "markdown",
      "metadata": {
        "id": "B9AXomKTgx-I"
      },
      "source": [
        "**It's a good idea to add another factor, but we need to pay attention that this factor must be independent to other factors.**"
      ]
    },
    {
      "cell_type": "markdown",
      "metadata": {
        "id": "_WrgDL7Vgx-I"
      },
      "source": [
        "g. Now along with testing if the conversion rate changes for different pages, also add an effect based on which country a user lives. You will need to read in the **countries.csv** dataset and merge together your datasets on the approporiate rows.  [Here](https://pandas.pydata.org/pandas-docs/stable/generated/pandas.DataFrame.join.html) are the docs for joining tables. \n",
        "\n",
        "Does it appear that country had an impact on conversion?  Don't forget to create dummy variables for these country columns - **Hint: You will need two columns for the three dummy variables.** Provide the statistical output as well as a written response to answer this question."
      ]
    },
    {
      "cell_type": "code",
      "metadata": {
        "collapsed": true,
        "id": "tnaV-qsCgx-J"
      },
      "source": [
        "countries_df = pd.read_csv('./countries.csv')\n",
        "df_new = countries_df.set_index('user_id').join(df2.set_index('user_id'), how='inner')"
      ],
      "execution_count": 40,
      "outputs": []
    },
    {
      "cell_type": "code",
      "metadata": {
        "id": "3wKOqHv6tv6e"
      },
      "source": [
        "### Create the necessary dummy variables\n",
        "df_new[['CA','UK','US']]=pd.get_dummies(df_new['country'])"
      ],
      "execution_count": null,
      "outputs": []
    },
    {
      "cell_type": "code",
      "metadata": {
        "colab": {
          "base_uri": "https://localhost:8080/",
          "height": 353
        },
        "id": "XPzm_HyGt0NN",
        "outputId": "b9cd447d-9546-475b-b43e-47ae24e25526"
      },
      "source": [
        "log_mod1 = sm.Logit(df_new['converted'], df_new[['intercept','ab_page','CA','UK']])\n",
        "results1 = log_mod1.fit()\n",
        "results1.summary()"
      ],
      "execution_count": 46,
      "outputs": [
        {
          "output_type": "stream",
          "text": [
            "Optimization terminated successfully.\n",
            "         Current function value: 0.366113\n",
            "         Iterations 6\n"
          ],
          "name": "stdout"
        },
        {
          "output_type": "execute_result",
          "data": {
            "text/html": [
              "<table class=\"simpletable\">\n",
              "<caption>Logit Regression Results</caption>\n",
              "<tr>\n",
              "  <th>Dep. Variable:</th>       <td>converted</td>    <th>  No. Observations:  </th>   <td>290584</td>   \n",
              "</tr>\n",
              "<tr>\n",
              "  <th>Model:</th>                 <td>Logit</td>      <th>  Df Residuals:      </th>   <td>290580</td>   \n",
              "</tr>\n",
              "<tr>\n",
              "  <th>Method:</th>                 <td>MLE</td>       <th>  Df Model:          </th>   <td>     3</td>   \n",
              "</tr>\n",
              "<tr>\n",
              "  <th>Date:</th>            <td>Tue, 19 Jan 2021</td> <th>  Pseudo R-squ.:     </th>  <td>2.323e-05</td> \n",
              "</tr>\n",
              "<tr>\n",
              "  <th>Time:</th>                <td>17:38:14</td>     <th>  Log-Likelihood:    </th> <td>-1.0639e+05</td>\n",
              "</tr>\n",
              "<tr>\n",
              "  <th>converged:</th>             <td>True</td>       <th>  LL-Null:           </th> <td>-1.0639e+05</td>\n",
              "</tr>\n",
              "<tr>\n",
              "  <th>Covariance Type:</th>     <td>nonrobust</td>    <th>  LLR p-value:       </th>   <td>0.1760</td>   \n",
              "</tr>\n",
              "</table>\n",
              "<table class=\"simpletable\">\n",
              "<tr>\n",
              "      <td></td>         <th>coef</th>     <th>std err</th>      <th>z</th>      <th>P>|z|</th>  <th>[0.025</th>    <th>0.975]</th>  \n",
              "</tr>\n",
              "<tr>\n",
              "  <th>intercept</th> <td>   -1.9893</td> <td>    0.009</td> <td> -223.763</td> <td> 0.000</td> <td>   -2.007</td> <td>   -1.972</td>\n",
              "</tr>\n",
              "<tr>\n",
              "  <th>ab_page</th>   <td>   -0.0149</td> <td>    0.011</td> <td>   -1.307</td> <td> 0.191</td> <td>   -0.037</td> <td>    0.007</td>\n",
              "</tr>\n",
              "<tr>\n",
              "  <th>CA</th>        <td>   -0.0408</td> <td>    0.027</td> <td>   -1.516</td> <td> 0.130</td> <td>   -0.093</td> <td>    0.012</td>\n",
              "</tr>\n",
              "<tr>\n",
              "  <th>UK</th>        <td>    0.0099</td> <td>    0.013</td> <td>    0.743</td> <td> 0.457</td> <td>   -0.016</td> <td>    0.036</td>\n",
              "</tr>\n",
              "</table>"
            ],
            "text/plain": [
              "<class 'statsmodels.iolib.summary.Summary'>\n",
              "\"\"\"\n",
              "                           Logit Regression Results                           \n",
              "==============================================================================\n",
              "Dep. Variable:              converted   No. Observations:               290584\n",
              "Model:                          Logit   Df Residuals:                   290580\n",
              "Method:                           MLE   Df Model:                            3\n",
              "Date:                Tue, 19 Jan 2021   Pseudo R-squ.:               2.323e-05\n",
              "Time:                        17:38:14   Log-Likelihood:            -1.0639e+05\n",
              "converged:                       True   LL-Null:                   -1.0639e+05\n",
              "Covariance Type:            nonrobust   LLR p-value:                    0.1760\n",
              "==============================================================================\n",
              "                 coef    std err          z      P>|z|      [0.025      0.975]\n",
              "------------------------------------------------------------------------------\n",
              "intercept     -1.9893      0.009   -223.763      0.000      -2.007      -1.972\n",
              "ab_page       -0.0149      0.011     -1.307      0.191      -0.037       0.007\n",
              "CA            -0.0408      0.027     -1.516      0.130      -0.093       0.012\n",
              "UK             0.0099      0.013      0.743      0.457      -0.016       0.036\n",
              "==============================================================================\n",
              "\"\"\""
            ]
          },
          "metadata": {
            "tags": []
          },
          "execution_count": 46
        }
      ]
    },
    {
      "cell_type": "markdown",
      "metadata": {
        "id": "gA0pd7DFuk6G"
      },
      "source": [
        "**p-value is greater than 0.05 so we can say that H0 could not be rejected. then country has not impact on page**"
      ]
    },
    {
      "cell_type": "markdown",
      "metadata": {
        "id": "WXq1cfzKgx-J"
      },
      "source": [
        "h. Though you have now looked at the individual factors of country and page on conversion, we would now like to look at an interaction between page and country to see if there significant effects on conversion.  Create the necessary additional columns, and fit the new model.  \n",
        "\n",
        "Provide the summary results, and your conclusions based on the results."
      ]
    },
    {
      "cell_type": "code",
      "metadata": {
        "collapsed": true,
        "id": "WxAN4ybZgx-J"
      },
      "source": [
        "## create new variables\n",
        "df_new['UK_ab_page'] = df_new['UK'] * df_new['ab_page']\n",
        "df_new['CA_ab_page'] = df_new['CA'] * df_new['ab_page']"
      ],
      "execution_count": 41,
      "outputs": []
    },
    {
      "cell_type": "code",
      "metadata": {
        "colab": {
          "base_uri": "https://localhost:8080/",
          "height": 396
        },
        "collapsed": true,
        "id": "X-JpNszsgx-J",
        "outputId": "2ee5a132-62b0-493f-be41-8c8700531cb0"
      },
      "source": [
        "### Fit Your Linear Model And Obtain the Results\n",
        "log_mod2 = sm.Logit(df_new['converted'], df_new[['intercept','ab_page','CA','UK','UK_ab_page','CA_ab_page']])\n",
        "results2 = log_mod2.fit()\n",
        "results2.summary()"
      ],
      "execution_count": 42,
      "outputs": [
        {
          "output_type": "stream",
          "text": [
            "Optimization terminated successfully.\n",
            "         Current function value: 0.366109\n",
            "         Iterations 6\n"
          ],
          "name": "stdout"
        },
        {
          "output_type": "execute_result",
          "data": {
            "text/html": [
              "<table class=\"simpletable\">\n",
              "<caption>Logit Regression Results</caption>\n",
              "<tr>\n",
              "  <th>Dep. Variable:</th>       <td>converted</td>    <th>  No. Observations:  </th>   <td>290584</td>   \n",
              "</tr>\n",
              "<tr>\n",
              "  <th>Model:</th>                 <td>Logit</td>      <th>  Df Residuals:      </th>   <td>290578</td>   \n",
              "</tr>\n",
              "<tr>\n",
              "  <th>Method:</th>                 <td>MLE</td>       <th>  Df Model:          </th>   <td>     5</td>   \n",
              "</tr>\n",
              "<tr>\n",
              "  <th>Date:</th>            <td>Tue, 19 Jan 2021</td> <th>  Pseudo R-squ.:     </th>  <td>3.482e-05</td> \n",
              "</tr>\n",
              "<tr>\n",
              "  <th>Time:</th>                <td>17:19:50</td>     <th>  Log-Likelihood:    </th> <td>-1.0639e+05</td>\n",
              "</tr>\n",
              "<tr>\n",
              "  <th>converged:</th>             <td>True</td>       <th>  LL-Null:           </th> <td>-1.0639e+05</td>\n",
              "</tr>\n",
              "<tr>\n",
              "  <th>Covariance Type:</th>     <td>nonrobust</td>    <th>  LLR p-value:       </th>   <td>0.1920</td>   \n",
              "</tr>\n",
              "</table>\n",
              "<table class=\"simpletable\">\n",
              "<tr>\n",
              "       <td></td>         <th>coef</th>     <th>std err</th>      <th>z</th>      <th>P>|z|</th>  <th>[0.025</th>    <th>0.975]</th>  \n",
              "</tr>\n",
              "<tr>\n",
              "  <th>intercept</th>  <td>   -1.9865</td> <td>    0.010</td> <td> -206.344</td> <td> 0.000</td> <td>   -2.005</td> <td>   -1.968</td>\n",
              "</tr>\n",
              "<tr>\n",
              "  <th>ab_page</th>    <td>   -0.0206</td> <td>    0.014</td> <td>   -1.505</td> <td> 0.132</td> <td>   -0.047</td> <td>    0.006</td>\n",
              "</tr>\n",
              "<tr>\n",
              "  <th>CA</th>         <td>   -0.0175</td> <td>    0.038</td> <td>   -0.465</td> <td> 0.642</td> <td>   -0.091</td> <td>    0.056</td>\n",
              "</tr>\n",
              "<tr>\n",
              "  <th>UK</th>         <td>   -0.0057</td> <td>    0.019</td> <td>   -0.306</td> <td> 0.760</td> <td>   -0.043</td> <td>    0.031</td>\n",
              "</tr>\n",
              "<tr>\n",
              "  <th>UK_ab_page</th> <td>    0.0314</td> <td>    0.027</td> <td>    1.181</td> <td> 0.238</td> <td>   -0.021</td> <td>    0.084</td>\n",
              "</tr>\n",
              "<tr>\n",
              "  <th>CA_ab_page</th> <td>   -0.0469</td> <td>    0.054</td> <td>   -0.872</td> <td> 0.383</td> <td>   -0.152</td> <td>    0.059</td>\n",
              "</tr>\n",
              "</table>"
            ],
            "text/plain": [
              "<class 'statsmodels.iolib.summary.Summary'>\n",
              "\"\"\"\n",
              "                           Logit Regression Results                           \n",
              "==============================================================================\n",
              "Dep. Variable:              converted   No. Observations:               290584\n",
              "Model:                          Logit   Df Residuals:                   290578\n",
              "Method:                           MLE   Df Model:                            5\n",
              "Date:                Tue, 19 Jan 2021   Pseudo R-squ.:               3.482e-05\n",
              "Time:                        17:19:50   Log-Likelihood:            -1.0639e+05\n",
              "converged:                       True   LL-Null:                   -1.0639e+05\n",
              "Covariance Type:            nonrobust   LLR p-value:                    0.1920\n",
              "==============================================================================\n",
              "                 coef    std err          z      P>|z|      [0.025      0.975]\n",
              "------------------------------------------------------------------------------\n",
              "intercept     -1.9865      0.010   -206.344      0.000      -2.005      -1.968\n",
              "ab_page       -0.0206      0.014     -1.505      0.132      -0.047       0.006\n",
              "CA            -0.0175      0.038     -0.465      0.642      -0.091       0.056\n",
              "UK            -0.0057      0.019     -0.306      0.760      -0.043       0.031\n",
              "UK_ab_page     0.0314      0.027      1.181      0.238      -0.021       0.084\n",
              "CA_ab_page    -0.0469      0.054     -0.872      0.383      -0.152       0.059\n",
              "==============================================================================\n",
              "\"\"\""
            ]
          },
          "metadata": {
            "tags": []
          },
          "execution_count": 42
        }
      ]
    },
    {
      "cell_type": "markdown",
      "metadata": {
        "id": "w7XwFWimuIYW"
      },
      "source": [
        "**even when we combine country and ab_page, p-value is still greater than 0.05 so we can say that H0 could not be rejected. then country has not impact on page**"
      ]
    },
    {
      "cell_type": "markdown",
      "metadata": {
        "id": "eCupE6awgx-K"
      },
      "source": [
        "<a id='conclusions'></a>\n",
        "## Conclusions\n",
        "\n",
        "In this project we studied the impact of new page on convesion. we proved that the new page has no impact on conversion using two methods: \n",
        "- A/B testing\n",
        "- Logistic Regression\n",
        "\n",
        "Then we tried to study the impact of new page and country on conversion. We used multiple logistic regression to prove that country has no impact on conversion."
      ]
    },
    {
      "cell_type": "code",
      "metadata": {
        "collapsed": true,
        "id": "skjKZYvEgx-K"
      },
      "source": [
        ""
      ],
      "execution_count": 42,
      "outputs": []
    }
  ]
}